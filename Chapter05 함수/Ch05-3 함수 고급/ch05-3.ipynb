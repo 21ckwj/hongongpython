{
 "cells": [
  {
   "cell_type": "markdown",
   "metadata": {},
   "source": [
    "### 05-3 함수 고급\n",
    "---\n",
    "***튜플(turple)*** 과 ***람다(lambda)***"
   ]
  },
  {
   "cell_type": "markdown",
   "metadata": {},
   "source": [
    "> 튜플(tuple)"
   ]
  },
  {
   "cell_type": "code",
   "execution_count": 1,
   "metadata": {},
   "outputs": [
    {
     "ename": "TypeError",
     "evalue": "'tuple' object does not support item assignment",
     "output_type": "error",
     "traceback": [
      "\u001b[1;31m---------------------------------------------------------------------------\u001b[0m",
      "\u001b[1;31mTypeError\u001b[0m                                 Traceback (most recent call last)",
      "\u001b[1;32m~\\AppData\\Local\\Temp/ipykernel_3088/991230020.py\u001b[0m in \u001b[0;36m<module>\u001b[1;34m\u001b[0m\n\u001b[0;32m      4\u001b[0m \u001b[0mtu\u001b[0m \u001b[1;33m=\u001b[0m \u001b[1;33m(\u001b[0m\u001b[1;36m10\u001b[0m\u001b[1;33m,\u001b[0m \u001b[1;36m20\u001b[0m\u001b[1;33m,\u001b[0m \u001b[1;36m30\u001b[0m\u001b[1;33m)\u001b[0m\u001b[1;33m\u001b[0m\u001b[1;33m\u001b[0m\u001b[0m\n\u001b[0;32m      5\u001b[0m \u001b[0mtu\u001b[0m\u001b[1;33m[\u001b[0m\u001b[1;36m0\u001b[0m\u001b[1;33m]\u001b[0m\u001b[1;33m\u001b[0m\u001b[1;33m\u001b[0m\u001b[0m\n\u001b[1;32m----> 6\u001b[1;33m \u001b[0mtu\u001b[0m\u001b[1;33m[\u001b[0m\u001b[1;36m0\u001b[0m\u001b[1;33m]\u001b[0m \u001b[1;33m=\u001b[0m \u001b[1;36m1\u001b[0m\u001b[1;33m\u001b[0m\u001b[1;33m\u001b[0m\u001b[0m\n\u001b[0m",
      "\u001b[1;31mTypeError\u001b[0m: 'tuple' object does not support item assignment"
     ]
    }
   ],
   "source": [
    "# 튜플 : 함수와 함께 많이 사용되는 리스트와 비슷한 자료형\n",
    "# 한번 결정된 요소는 바꿀 수 없음!!\n",
    "\n",
    "tu = (10, 20, 30)\n",
    "tu[0]\n",
    "tu[0] = 1 #읽기만 가능 교체 불가"
   ]
  },
  {
   "cell_type": "code",
   "execution_count": 11,
   "metadata": {},
   "outputs": [
    {
     "data": {
      "text/plain": [
       "int"
      ]
     },
     "execution_count": 11,
     "metadata": {},
     "output_type": "execute_result"
    }
   ],
   "source": [
    "# 요소를 하나만 가지는 튜플 생성\n",
    "[273]\n",
    "(273)\n",
    "\n",
    "type((273))     # int\n",
    "type([273])     # list\n",
    "type((273,))    # tuple 콤마 찍어줘야 튜플로 인식\n"
   ]
  },
  {
   "cell_type": "code",
   "execution_count": 17,
   "metadata": {},
   "outputs": [
    {
     "name": "stdout",
     "output_type": "stream",
     "text": [
      "10 20 30 40\n",
      "1 2 3 4 5 6\n"
     ]
    },
    {
     "data": {
      "text/plain": [
       "20"
      ]
     },
     "execution_count": 17,
     "metadata": {},
     "output_type": "execute_result"
    }
   ],
   "source": [
    "# 변수 다중 할당\n",
    "[a,b] = [10, 20]\n",
    "(c,d) = (30, 40)\n",
    "print(a,b,c,d)\n",
    "\n",
    "a, b, c = [1, 2, 3]\n",
    "d, e, f = (4, 5, 6)\n",
    "print(a, b, c, d, e, f)\n",
    "\n",
    "x = [1,2,3]\n",
    "a, b ,c = x \n",
    "\n",
    "y = (4, 5, 6)\n",
    "d,e,f = y\n",
    "\n",
    "# 괄호 생략\n",
    "tu = 10, 20, 30\n",
    "type(tu)        # tuple\n",
    "\n",
    "# 변수의 값 교환 \n",
    "a, b = 10, 20           # 다른언어는 temp 만들어야 하지만 파이썬은 가능\n",
    "a, b = b, a\n",
    "a"
   ]
  },
  {
   "cell_type": "markdown",
   "metadata": {},
   "source": [
    "> 튜플과 함수"
   ]
  },
  {
   "cell_type": "code",
   "execution_count": 18,
   "metadata": {},
   "outputs": [
    {
     "name": "stdout",
     "output_type": "stream",
     "text": [
      "10 20\n"
     ]
    }
   ],
   "source": [
    "# 튜플은 함수의 리턴에 많이 사용(여러개의 값을 리턴하고 할당 가능)\n",
    "def test():\n",
    "    return(10, 20)\n",
    "\n",
    "a, b = test()\n",
    "print(a, b)"
   ]
  },
  {
   "cell_type": "markdown",
   "metadata": {},
   "source": [
    "### 람다(lambda) : 람다표현식(익명함수) <-> def"
   ]
  },
  {
   "cell_type": "markdown",
   "metadata": {},
   "source": [
    "> 함수의 매개변수로 함수 전달하기"
   ]
  },
  {
   "cell_type": "code",
   "execution_count": 20,
   "metadata": {},
   "outputs": [
    {
     "name": "stdout",
     "output_type": "stream",
     "text": [
      "안녕하세요~~\n",
      "안녕하세요~~\n",
      "안녕하세요~~\n",
      "안녕하세요~~\n",
      "안녕하세요~~\n",
      "안녕하세요~~\n",
      "안녕하세요~~\n",
      "안녕하세요~~\n",
      "안녕하세요~~\n",
      "안녕하세요~~\n"
     ]
    }
   ],
   "source": [
    "def call_10_times(func): \n",
    "    for i in range(10):\n",
    "        func()                  #함수 이름을 적으면 함수를 10번 실행하겠다\n",
    "\n",
    "def print_hello1():\n",
    "    print(\"안녕하세요\")\n",
    "\n",
    "def print_hello2():\n",
    "    print(\"안녕하세요~~\") \n",
    "\n",
    "# 함수 콜(매개변수로 함수를 전달)   #필요에 따라 함수를 바꿔줄 수 있다\n",
    "# call_10_times(print_hello1)\n",
    " \n",
    "call_10_times(print_hello2)"
   ]
  },
  {
   "cell_type": "code",
   "execution_count": 2,
   "metadata": {},
   "outputs": [
    {
     "name": "stdout",
     "output_type": "stream",
     "text": [
      "hi~ hi~ hi~ hi~ hi~ hi~ hi~ hi~ hi~ hi~ "
     ]
    }
   ],
   "source": [
    "def call_10_times(func): \n",
    "    for i in range(10):\n",
    "        func()   \n",
    "\n",
    "# 람다 표현식 적용\n",
    "call_10_times(lambda : print(\"hi~\",end= ' '))"
   ]
  },
  {
   "cell_type": "markdown",
   "metadata": {},
   "source": [
    ">람다 표현식으로 함수 만들기"
   ]
  },
  {
   "cell_type": "code",
   "execution_count": 5,
   "metadata": {},
   "outputs": [
    {
     "name": "stdout",
     "output_type": "stream",
     "text": [
      "<class 'function'>\n"
     ]
    },
    {
     "data": {
      "text/plain": [
       "13"
      ]
     },
     "execution_count": 5,
     "metadata": {},
     "output_type": "execute_result"
    }
   ],
   "source": [
    "def plus_ten(x):\n",
    "    return x + 10\n",
    "\n",
    "plus_ten(1)\n",
    "\n",
    "# lambda 매개변수 : 리턴값\n",
    "# lambda    x     : x + 10\n",
    "\n",
    "plus_two = lambda x : x+2 \n",
    "print(type(plus_two))\n",
    "plus_two(3) \n",
    "\n",
    "(lambda x : x+2)(11)"
   ]
  },
  {
   "cell_type": "code",
   "execution_count": 8,
   "metadata": {},
   "outputs": [
    {
     "ename": "SyntaxError",
     "evalue": "invalid syntax (Temp/ipykernel_10844/418497954.py, line 4)",
     "output_type": "error",
     "traceback": [
      "\u001b[1;36m  File \u001b[1;32m\"C:\\Users\\bitcamp\\AppData\\Local\\Temp/ipykernel_10844/418497954.py\"\u001b[1;36m, line \u001b[1;32m4\u001b[0m\n\u001b[1;33m    (lambda x : y=10; x+y)(1)\u001b[0m\n\u001b[1;37m                 ^\u001b[0m\n\u001b[1;31mSyntaxError\u001b[0m\u001b[1;31m:\u001b[0m invalid syntax\n"
     ]
    }
   ],
   "source": [
    "# [주의사항]\n",
    "# 람다 표현식 안에서는 변수를 만들 수 없다.\n",
    "y = 0\n",
    "(lambda x : y=10; x+y)(1)"
   ]
  },
  {
   "cell_type": "markdown",
   "metadata": {},
   "source": [
    "> filter() 함수와 map() 함수"
   ]
  },
  {
   "cell_type": "code",
   "execution_count": 12,
   "metadata": {},
   "outputs": [
    {
     "name": "stdout",
     "output_type": "stream",
     "text": [
      "map() 함수의 실행결과\n",
      "<map object at 0x0000022C5CF85B40>\n",
      "[1, 4, 9, 16, 25]\n",
      "\n",
      "map() 함수의 실행결과\n",
      "<filter object at 0x0000022C5CF84250>\n",
      "[1, 2]\n"
     ]
    }
   ],
   "source": [
    "# 함수를 매개변수로 전달하는 대표적인 표준함수\n",
    "# map(함수, 리스트)\n",
    "# filter(함수, 리스트)\n",
    "\n",
    "def power(item):\n",
    "    return item * item \n",
    "\n",
    "def under_3(item):\n",
    "    return item < 3\n",
    "\n",
    "li = [1 , 2, 3, 4, 5]\n",
    "\n",
    "# map() 함수를 이용\n",
    "#       = map(power(item), [1,2,3,4,5])\n",
    "\n",
    "output = map(power, li)\n",
    "print(\"map() 함수의 실행결과\")\n",
    "print(output)\n",
    "print(list(output))\n",
    "print() \n",
    "\n",
    "#filter() 함수를 이용\n",
    "print(\"map() 함수의 실행결과\")\n",
    "output = filter(under_3, li)\n",
    "print(output)\n",
    "print(list(output))"
   ]
  },
  {
   "cell_type": "code",
   "execution_count": 15,
   "metadata": {},
   "outputs": [
    {
     "name": "stdout",
     "output_type": "stream",
     "text": [
      "[1, 8, 27, 64, 125]\n",
      "[1, 2, 3]\n"
     ]
    }
   ],
   "source": [
    "# 인라인 람다\n",
    "\n",
    "li = [1 , 2, 3, 4, 5]\n",
    "output = map(lambda x: x **3, li)\n",
    "print(list(output))\n",
    "\n",
    "output = filter(lambda x: x <= 3, li)\n",
    "print(list(output))"
   ]
  },
  {
   "cell_type": "markdown",
   "metadata": {},
   "source": [
    "### 파일 처리 : 열기, 읽기, 쓰기 "
   ]
  },
  {
   "cell_type": "markdown",
   "metadata": {},
   "source": [
    "> 파일에 문자열 쓰기"
   ]
  },
  {
   "cell_type": "code",
   "execution_count": 22,
   "metadata": {},
   "outputs": [
    {
     "name": "stdout",
     "output_type": "stream",
     "text": [
      "b'ABCD' <class 'bytes'>\n",
      "0x20\n",
      "Hello World\n"
     ]
    }
   ],
   "source": [
    "sb = 'ABCD'.encode()    \n",
    "print(sb, type(sb))\n",
    "\n",
    "data = b'\\x48\\x65\\x6c\\x6c\\x6f\\x20\\x57\\x6f\\x72\\x6c\\x64'\n",
    "\n",
    "print(hex(ord(' ')))        # 공백 0x20\n",
    "print(data.decode())\n"
   ]
  },
  {
   "cell_type": "code",
   "execution_count": 26,
   "metadata": {},
   "outputs": [
    {
     "name": "stdout",
     "output_type": "stream",
     "text": [
      "<class '_io.TextIOWrapper'>\n",
      "../../source/basic.txt  w\n"
     ]
    }
   ],
   "source": [
    "# 표준입출력 : <stdio>: standard input output <iostream>: input output stream\n",
    "# I.O란 컴퓨터 내부 또 외부의 장치와 프로그램 간의 데이터를 주고 받는 것\n",
    "# 단방향 buffer : InputStream, OutputStream\n",
    "\n",
    "# open(\"파일경로\", '모드')\n",
    "# 모드 : w(write), a(append), r(read), t(text:디폴트값), b(binary)                  \n",
    "\n",
    "# open() ~ close() 미리 작성하는 습관을 가질 것\n",
    "\n",
    "#1. 파일객체 얻기\n",
    "file = open(\"../../source/basic.txt \", 'w')  #open(\"파일경로../파일이름\", ) 상대경료\n",
    "print(type(file))\n",
    "print(file.name, file.mode)\n",
    "\n",
    "# 2. 읽기,쓰기\n",
    "file.write(\"[Hello Python programming]\\n\")\n",
    "file.write(\"First line..!\\n\")\n",
    "file.write(\"Second line\\n\")\n",
    "file.write(\"Third line\\n\")\n",
    "file.write(\"End line\\n\")\n",
    "\n",
    "#3. 파일객체 닫기\n",
    "file.close()    #먼저 작성하는 습관 가질 것\n"
   ]
  },
  {
   "cell_type": "code",
   "execution_count": 42,
   "metadata": {},
   "outputs": [
    {
     "name": "stdout",
     "output_type": "stream",
     "text": [
      "1 [Hello Python programming]\n",
      "2 First line..!\n",
      "3 Second line\n",
      "4 Third line\n",
      "5 End line\n",
      "\n",
      "6 False\n",
      "7 False\n"
     ]
    }
   ],
   "source": [
    "fo = open(\"..\\\\..\\\\source\\\\basic.txt \", 'r')\n",
    "\n",
    "# read(): 한번에 다 읽는방법\n",
    "# text1 = fo.read()\n",
    "# print(text1)\n",
    "\n",
    "# readline(): 한줄씩 읽는방법\n",
    "\n",
    "print(1, fo.readline(),end='')\n",
    "print(2, fo.readline(),end='')\n",
    "print(3, fo.readline(),end='')\n",
    "print(4, fo.readline(),end='')\n",
    "print(5, fo.readline())\n",
    "print(6, bool(fo.readline()))\n",
    "print(7, bool(''))\n",
    "\n",
    "fo.close() "
   ]
  },
  {
   "cell_type": "code",
   "execution_count": 46,
   "metadata": {},
   "outputs": [
    {
     "name": "stdout",
     "output_type": "stream",
     "text": [
      "1 line: [Hello Python programming]\n",
      "2 line: First line..!\n",
      "3 line: Second line\n",
      "4 line: Third line\n",
      "5 line: End line\n"
     ]
    }
   ],
   "source": [
    "# readlines() \n",
    "\n",
    "f = open(\"..\\\\..\\\\source\\\\basic.txt \", 'rt')\n",
    "lines =f.readlines()\n",
    "\n",
    "for i in range(len(lines)):\n",
    "    print(f\"{i+1} line:\", lines[i].strip())  #strip() : whitespace('',\\n) removed\n",
    " \n",
    "\n",
    "f.close()\n"
   ]
  },
  {
   "cell_type": "markdown",
   "metadata": {},
   "source": [
    "> with 키워드"
   ]
  },
  {
   "cell_type": "code",
   "execution_count": 50,
   "metadata": {},
   "outputs": [
    {
     "name": "stdout",
     "output_type": "stream",
     "text": [
      "[Hello Python programming]\n",
      "\n",
      "First line..!\n",
      "\n",
      "Second line\n",
      "\n",
      "Third line\n",
      "\n",
      "End line\n",
      "\n"
     ]
    }
   ],
   "source": [
    "try: \n",
    "    fo = open('..\\\\..\\\\source\\\\basic.txt ', mode ='rt')\n",
    "    for line in fo:\n",
    "        print(line)\n",
    "finally:\n",
    "    f.close() # 뭐가 되었든 close 하겠다\n",
    "\n",
    "# 매번 try,finally 쓰기 그래서 with open 사용\n",
    "\n",
    "with open('..\\\\..\\\\source\\\\basic.txt ', mode='rt') as fi:\n",
    "    fi.readline()"
   ]
  },
  {
   "cell_type": "markdown",
   "metadata": {},
   "source": [
    "> csv파일을 만들어 사용하기"
   ]
  },
  {
   "cell_type": "code",
   "execution_count": 53,
   "metadata": {},
   "outputs": [],
   "source": [
    "# 텍스트를 사용해 데이터를 구조적으로 표현하는 방볍 : csv, xml, json \n",
    "# csv 파일 : 한 줄에 하나의 데이터를 나타내며, 각각의 줄은 ','(쉼표)로 데이터를 구분\n",
    "# 김철수, 178, 65 \n",
    "\n",
    "import random \n",
    "\n",
    "first_names = \"김이박최정강조윤장임한오서신\"\n",
    "last_names  = \"가나다라마바사아자차카타파하\"\n",
    "\n",
    "with open('info.csv', 'w', encoding=\"UTF-8\") as f:\n",
    "    for i in range(10):\n",
    "        first = random.choice(first_names)\n",
    "        last = random.choice(last_names) + random.choice(last_names)\n",
    "        name = first + last\n",
    "\n",
    "        height = random.randrange(140,200)\n",
    "        weight = random.randrange(40,120)\n",
    "        f.write(\"{}, {}, {}\\n\".format(name, height, weight))"
   ]
  },
  {
   "cell_type": "code",
   "execution_count": 68,
   "metadata": {},
   "outputs": [
    {
     "name": "stdout",
     "output_type": "stream",
     "text": [
      "이름: {}\n",
      "몸무게: {}\n",
      "키: {}\n",
      "BMI: {}\n",
      "결과: 장파카\n",
      "\n",
      "이름: {}\n",
      "몸무게: {}\n",
      "키: {}\n",
      "BMI: {}\n",
      "결과: 장차타\n",
      "\n",
      "이름: {}\n",
      "몸무게: {}\n",
      "키: {}\n",
      "BMI: {}\n",
      "결과: 정파라\n",
      "\n",
      "이름: {}\n",
      "몸무게: {}\n",
      "키: {}\n",
      "BMI: {}\n",
      "결과: 조하가\n",
      "\n",
      "이름: {}\n",
      "몸무게: {}\n",
      "키: {}\n",
      "BMI: {}\n",
      "결과: 최나라\n",
      "\n",
      "이름: {}\n",
      "몸무게: {}\n",
      "키: {}\n",
      "BMI: {}\n",
      "결과: 서자파\n",
      "\n",
      "이름: {}\n",
      "몸무게: {}\n",
      "키: {}\n",
      "BMI: {}\n",
      "결과: 정바자\n",
      "\n",
      "이름: {}\n",
      "몸무게: {}\n",
      "키: {}\n",
      "BMI: {}\n",
      "결과: 박카가\n",
      "\n",
      "이름: {}\n",
      "몸무게: {}\n",
      "키: {}\n",
      "BMI: {}\n",
      "결과: 서차다\n",
      "\n",
      "이름: {}\n",
      "몸무게: {}\n",
      "키: {}\n",
      "BMI: {}\n",
      "결과: 윤타다\n",
      "\n"
     ]
    }
   ],
   "source": [
    "# BMI(비만도) :  몸무게 / 키(m)의 제곱 \n",
    "\n",
    "with open(\"info.csv\", 'r', encoding=\"UTF-8\") as fo:\n",
    "    for line in fo:\n",
    "        (name, height, weight) = line.strip().split(', ')\n",
    "        # 데이터가 유효한지 검사\n",
    "        if (not name) or (not weight) or (not height):       # 데이터가 유효하지 않으면\n",
    "            continue\n",
    "        # BMI 계산\n",
    "        bmi = int(weight) / (int(height)/100) ** 2\n",
    "        result = \"\"\n",
    "        if bmi >= 25:\n",
    "            result = \"비만입니다.\"\n",
    "        elif bmi >= 23:\n",
    "            result = \"과체중입니다.\"\n",
    "        elif bmi >= 18.5:\n",
    "            result = \"비만입니다.\"\n",
    "        else:\n",
    "            result = \"저체중입니다.\"\n",
    "\n",
    "        str_out = '\\n'.join([\n",
    "         \"이름: {}\",\n",
    "         \"몸무게: {}\", \n",
    "         \"키: {}\", \n",
    "         \"BMI: {}\",\n",
    "         \"결과: {}\".format(name, weight, height, bmi, result)])\n",
    "\n",
    "        print(str_out)\n",
    "        print()                                                         \n"
   ]
  },
  {
   "cell_type": "markdown",
   "metadata": {},
   "source": [
    "> 바이너리 파일"
   ]
  },
  {
   "cell_type": "code",
   "execution_count": 71,
   "metadata": {},
   "outputs": [],
   "source": [
    "from urllib import request\n",
    "\n",
    "target = request.urlopen(\"https://www.google.com/url?sa=i&url=http%3A%2F%2Fthe-pet.co.kr%2Fcategory%2Fi%25EA%25B7%25B8%25EB%25A0%2588%25EC%259D%25B4%25ED%2595%2598%25EC%259A%25B4%25EB%2593%259C%2F55%2F&psig=AOvVaw04gDN_0U00_6Aw-ckbh-ft&ust=1641959135009000&source=images&cd=vfe&ved=0CAsQjRxqFwoTCJjd0c7kqPUCFQAAAAAdAAAAABAD\")\n",
    "bin_file = target.read()\n",
    "# print(bin_file)\n",
    "\n",
    "with open(\"..\\\\..\\\\source\\\\dog.jpg\", 'wb') as fb :\n",
    "    fb.write(bin_file)\n"
   ]
  }
 ],
 "metadata": {
  "interpreter": {
   "hash": "054c0b5073ae8ed56926c5c67113945079b283bacf1a269ae7086b3d9eebd60c"
  },
  "kernelspec": {
   "display_name": "Python 3.10.1 64-bit",
   "language": "python",
   "name": "python3"
  },
  "language_info": {
   "codemirror_mode": {
    "name": "ipython",
    "version": 3
   },
   "file_extension": ".py",
   "mimetype": "text/x-python",
   "name": "python",
   "nbconvert_exporter": "python",
   "pygments_lexer": "ipython3",
   "version": "3.10.1"
  },
  "orig_nbformat": 4
 },
 "nbformat": 4,
 "nbformat_minor": 2
}

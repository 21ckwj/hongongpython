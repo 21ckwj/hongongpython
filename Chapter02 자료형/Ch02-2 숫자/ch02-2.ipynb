{
 "cells": [
  {
   "cell_type": "markdown",
   "metadata": {},
   "source": [
    "### 02-2 숫자\n",
    "---"
   ]
  },
  {
   "cell_type": "markdown",
   "metadata": {},
   "source": [
    "#### 시작하기 전에\n",
    "소수점이 없는 숫자를 ***정수형***이라하고, 소수점이 있는 숫자를 ***실수형***이라 한다.   \n",
    "* 정수(integer) : 0, -1, 273...\n",
    "* 실수(float)   : 0.0, 3.141592, ..."
   ]
  },
  {
   "cell_type": "markdown",
   "metadata": {},
   "source": [
    "> 숫자의 종류 : int(정수), float(부동소수점) 등, 자료형에 따라 값에 대한 해석이 달라진다.   \n",
    "http://www.binaryconvert.com"
   ]
  },
  {
   "cell_type": "code",
   "execution_count": 3,
   "metadata": {},
   "outputs": [
    {
     "name": "stdout",
     "output_type": "stream",
     "text": [
      "1\n",
      "<class 'int'>\n",
      "1.0\n",
      "<class 'float'>\n"
     ]
    }
   ],
   "source": [
    "i = 1\n",
    "print(i)\n",
    "print(type(i)) \n",
    "\n",
    "f = 1.0\n",
    "print(f)\n",
    "print(type(f))"
   ]
  },
  {
   "cell_type": "markdown",
   "metadata": {},
   "source": [
    "> 정수형(integer)"
   ]
  },
  {
   "cell_type": "code",
   "execution_count": 11,
   "metadata": {},
   "outputs": [
    {
     "name": "stdout",
     "output_type": "stream",
     "text": [
      "0b1010\n",
      "0o12\n",
      "10\n",
      "0xa\n",
      "30\n",
      "0b111011100110101100101000000000\n"
     ]
    }
   ],
   "source": [
    "# print( -123,0, 47893, 1_000_000)\n",
    "\n",
    "# 기수법(numeral system): binary(2), octal(8), decimal(10), hexadecimal(16)\n",
    "number = 10 \n",
    "\n",
    "print(bin(number))\n",
    "print(oct(number))\n",
    "print(number)\n",
    "print(hex(number))\n",
    "\n",
    "n = 1000000000            #컴파일언어(c ,java 등)은 어떤숫자를 해도 4byte(int)에 담기는데 (즉, 숫자가 커져 일정수준 메모리 이상이 되면 에러남)\n",
    "print(n.bit_length())     #파이썬은 먼저 받고 나중에 읽음\n",
    "print(bin(n))"
   ]
  },
  {
   "cell_type": "markdown",
   "metadata": {},
   "source": [
    ">실수형(float)"
   ]
  },
  {
   "cell_type": "code",
   "execution_count": 18,
   "metadata": {},
   "outputs": [
    {
     "name": "stdout",
     "output_type": "stream",
     "text": [
      "0.30000000000000004\n",
      "1.0999999999999999\n",
      "0.010000000000000002\n",
      "False\n"
     ]
    }
   ],
   "source": [
    "# print(-1.2, .0, 1.0, 3.14)\n",
    "\n",
    "# 부동 소수점 표현방식\n",
    "# print(3.14E2)               #축약하여 표현 가능\n",
    "# print(3.14 * 10 ** 2)       #314\n",
    "# print(314e-2)               #3.14\n",
    "# print(1e-4)                 #0.0001\n",
    "\n",
    "# 실수 값의 오차 : 유효범위(정밀도) 항상 조심해야 한다\n",
    "print(0.1 * 3)                #0.30000000000000004 \n",
    "print(1.2 - 0.1)              #1.0999999999999999\n",
    "print(0.1 * 0.1)              #0.010000000000000002\n",
    "\n",
    "print(0.1 * 3 == 0.3)"
   ]
  },
  {
   "cell_type": "markdown",
   "metadata": {},
   "source": [
    "> 숫자 연산자 (+ - * / ** % // =)"
   ]
  },
  {
   "cell_type": "code",
   "execution_count": 27,
   "metadata": {},
   "outputs": [
    {
     "name": "stdout",
     "output_type": "stream",
     "text": [
      "3 ÷ 2 =  1.5\n",
      "1.0\n",
      "5.0\n",
      "7.5\n",
      "7\n",
      "1\n",
      "False\n",
      "짝수 입니다.\n",
      "25\n",
      "1.4142135623730951\n",
      "3.0\n"
     ]
    }
   ],
   "source": [
    "#사칙연산 생략\n",
    "\n",
    "print(\"3 ÷ 2 = \", 3/2) \n",
    "\n",
    "#division always returns a floating point number\n",
    "\n",
    "print(1/1)              # 1이 아님! 1.0 실수형으로 나옴 \n",
    "#print(1/(float)1)      # 자바의 경우 자동형변환 없음-> 나눗셈을 할때 형변환 직접 해줘야함\n",
    "\n",
    "y = (50 - 5 * 6)/4        #괄호 사용\n",
    "print(y)\n",
    "\n",
    "print(15 / 2)           #나누기\n",
    "print(15 // 2)          #몫(소수점 이하 버림)\n",
    "print(15 % 2)           #나머지\n",
    "print(15 % 2 == 0)      #False\n",
    "\n",
    "# 짝수/홀수 판별\n",
    "n = 8 \n",
    "if n % 2 == 0: \n",
    "    print(\"짝수 입니다.\")\n",
    "else:\n",
    "    print(\"홀수 입니다.\")\n",
    "\n",
    "# 제곱/제곱근\n",
    "print(5 ** 2)           #25\n",
    "print(2 ** 0.5)         #1.4142135623730951\n",
    "print(9 ** 0.5)         #3.0           "
   ]
  },
  {
   "cell_type": "markdown",
   "metadata": {},
   "source": [
    "> 원의 반지름을 사용자로부터 입력받아 둘레와 면적을 구하는 프로그램 작성(circle.py)"
   ]
  },
  {
   "cell_type": "code",
   "execution_count": 37,
   "metadata": {},
   "outputs": [
    {
     "name": "stdout",
     "output_type": "stream",
     "text": [
      "반지름을 입력해 주세요:\n",
      "원의 둘레는 94.24777960769379, 넓이는 706.8583470577034입니다.\n"
     ]
    }
   ],
   "source": [
    "def circle():\n",
    "    r = float(input(print(\"반지름을 입력해 주세요:\")))\n",
    "    import math\n",
    "    pi = math.pi\n",
    "    result1 = 2 * pi * r\n",
    "    result2 = pi * r ** 2\n",
    "    print(\"원의 둘레는 {}, 넓이는 {}입니다.\".format(result1, result2))\n",
    "\n",
    "circle()\n"
   ]
  }
 ],
 "metadata": {
  "interpreter": {
   "hash": "054c0b5073ae8ed56926c5c67113945079b283bacf1a269ae7086b3d9eebd60c"
  },
  "kernelspec": {
   "display_name": "Python 3.10.1 64-bit",
   "language": "python",
   "name": "python3"
  },
  "language_info": {
   "codemirror_mode": {
    "name": "ipython",
    "version": 3
   },
   "file_extension": ".py",
   "mimetype": "text/x-python",
   "name": "python",
   "nbconvert_exporter": "python",
   "pygments_lexer": "ipython3",
   "version": "3.10.1"
  },
  "orig_nbformat": 4
 },
 "nbformat": 4,
 "nbformat_minor": 2
}

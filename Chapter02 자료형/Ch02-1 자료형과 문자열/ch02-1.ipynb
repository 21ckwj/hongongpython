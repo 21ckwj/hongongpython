{
 "cells": [
  {
   "cell_type": "markdown",
   "metadata": {},
   "source": [
    "### 02-1 자료형과 문자열\n",
    "---"
   ]
  },
  {
   "cell_type": "markdown",
   "metadata": {},
   "source": [
    "#### 시작하기전에   \n",
    "프로그램은 기본적으로 '자료를 처리'하는 역할을 한다.   \n",
    "* 카메라로 사진을 찍으면 사진이 **자료**이고, 이를 카메라에 저장하는 것이 **처리**이다.\n",
    "* 카톡으로 메시지를 보냈다면 메시지가 **자료**이고, 이를 친구에게 전송하는 것이 **처리**이다.\n",
    "* 게임에서 경험치를 얻었다면 경험치가 **자료**이고, 경험치를 증가시키는 것이 **처리**이다.\n",
    "\n",
    "데이터를 처리한다는 것은 결국... CRUD  \n",
    "\" Create(생성/쓰기), Read(읽기), Update(갱신), Delete(삭제) \" 한다는 것이다!!!"
   ]
  },
  {
   "cell_type": "markdown",
   "metadata": {},
   "source": [
    "> 자료형(data type) \n",
    "* 문자열(string): 메일 제목, 메시지 내용 등 -> \"안녕하세요\", \"Hello World\"\n",
    "* 숫자(number): 물건의 가격, 학생의 성적 등 -> 52, 273, 103.32\n",
    "* 불(boolean): 로그인 상태 -> True, False   \n",
    "자료형은 자료의 형태이고, 자료형에 따라 컴퓨터가 해석하는 방법이 달라진다. "
   ]
  },
  {
   "cell_type": "markdown",
   "metadata": {},
   "source": [
    ">자료형 확인하기"
   ]
  },
  {
   "cell_type": "code",
   "execution_count": 7,
   "metadata": {},
   "outputs": [
    {
     "name": "stdout",
     "output_type": "stream",
     "text": [
      "<class 'str'>\n",
      "<class 'int'>\n",
      "<class 'float'>\n",
      "<class 'bool'>\n",
      "\n",
      "<class 'list'>\n",
      "<class 'tuple'>\n",
      "<class 'dict'>\n"
     ]
    }
   ],
   "source": [
    "#파이썬 기본 자료형\n",
    "print(type(\"나는 문자열\"))\n",
    "print(type(273))\n",
    "print(type(3.14))\n",
    "print(type(True))\n",
    "print()\n",
    "\n",
    "#컬렉션 자료형\n",
    "[], (), {}\n",
    "print(type([1, 2, 3]))\n",
    "print(type((1, 2, 3)))\n",
    "print(type({1: 'a', 2: 'b', 3: 'c'}))\n",
    "\n",
    "# array에 담을 때는 모두 다 같은 자료형만 들어가야 하는점이 불편\n",
    "# 리스트[]: 다른 자료형을 함께 수집하기 사용\n",
    "# 튜플(): 값 변경 일어나면 안되는 값\n",
    "# dict{} : [\"철수\", 120] 이면 120의 값이 키인지 아이큐인지 정확히 알 수 없음->{\"name\": \"철수\", \"키\": 120}"
   ]
  },
  {
   "cell_type": "code",
   "execution_count": null,
   "metadata": {},
   "outputs": [],
   "source": [
    "#dir() : 어떤 객체가 어떤 메소드를 가지고 있는지 알고 싶을 때\n",
    "#dir(__builtins__)  #기본적으로 제공되는 메소드들\n",
    "dir(10)\n",
    "dir(\"문자열\")"
   ]
  },
  {
   "cell_type": "code",
   "execution_count": 16,
   "metadata": {},
   "outputs": [
    {
     "name": "stdout",
     "output_type": "stream",
     "text": [
      "n: 2194518191600\n",
      "a: 2194518191600\n",
      "b: 2194518191312\n",
      "True\n",
      "False\n"
     ]
    }
   ],
   "source": [
    "#id() : 객체를 식별하기 위해서 부여하는 일련번호 -> 변수에는 값을 대입하는 변수 주소를 대입하는 참조변수 \n",
    "a = 10\n",
    "# 10 이라는 값이 a에 담기는게 아니라 10이라는 객체(class의 인스턴스)가 생성되고 \n",
    "# 참조변수 a 라는 이름으로 10 객체를 가리킨다.\n",
    "id(a)\n",
    "\n",
    "n = 4000\n",
    "print(\"n:\", id(n))\n",
    "\n",
    "a = n\n",
    "print(\"a:\", id(a))\n",
    "\n",
    "b= 4000 # b=n 일때는 같음\n",
    "print(\"b:\", id(b))\n",
    "\n",
    "print(a == b)\n",
    "print(a is b)\n",
    "\n",
    "#정확한 주소값은 아니지만 주소값에 기인한 값"
   ]
  },
  {
   "cell_type": "code",
   "execution_count": 25,
   "metadata": {},
   "outputs": [
    {
     "name": "stdout",
     "output_type": "stream",
     "text": [
      "True\n",
      "True\n"
     ]
    }
   ],
   "source": [
    "#isinstance() : 주어진 인스턴스가 특정 클래스(데이터타입)인지 검사\n",
    "print(isinstance(\"이것은 문자열\", str))\n",
    "print(isinstance(2022, int))"
   ]
  },
  {
   "cell_type": "code",
   "execution_count": 27,
   "metadata": {},
   "outputs": [
    {
     "name": "stdout",
     "output_type": "stream",
     "text": [
      "print(value, ..., sep=' ', end='\\n', file=sys.stdout, flush=False)\n",
      "\n",
      "Prints the values to a stream, or to sys.stdout by default.\n",
      "Optional keyword arguments:\n",
      "file:  a file-like object (stream); defaults to the current sys.stdout.\n",
      "sep:   string inserted between values, default a space.\n",
      "end:   string appended after the last value, default a newline.\n",
      "flush: whether to forcibly flush the stream.\n"
     ]
    }
   ],
   "source": [
    "#help() : 함수(function) 정보를 보고 싶을 때\n",
    "# help(print)\n",
    "print(print.__doc__) \n",
    "# 실제 프로젝트에서 구현단계 \n",
    "# 업무용 코딩할때 주석을 달아야 하는데 parameter값이 어떤 걸 나타내는지 return, type .. 등등 \n",
    "# 함수 이용해서 parameter 값 찾으면 됨 "
   ]
  },
  {
   "cell_type": "markdown",
   "metadata": {},
   "source": [
    ">문자열 만들기 : \" \", ' ', \"\"\" \"\"\", ''' '''"
   ]
  },
  {
   "cell_type": "code",
   "execution_count": 33,
   "metadata": {},
   "outputs": [
    {
     "name": "stdout",
     "output_type": "stream",
     "text": [
      "66\n",
      "a\n",
      "abcdef"
     ]
    }
   ],
   "source": [
    "# 문자열('str') : 문자(char)의 배열\n",
    "\n",
    "# 문자셋(character set)\n",
    "print(ord('B')) # 인코딩 \n",
    "print(chr(0b1100001))  # 디코딩\n",
    "\n",
    "# 문자의 배열\n",
    "\n",
    "for i in \"abcdef\":\n",
    "    print(i, end= '') #print 맨끝에 \\n 이 default값으로 들어가 있음 end= '' 입력시 가로로 출력 가능\n",
    "    "
   ]
  },
  {
   "cell_type": "code",
   "execution_count": 42,
   "metadata": {},
   "outputs": [
    {
     "name": "stdout",
     "output_type": "stream",
     "text": [
      "why don't you?\n",
      "why don't you?\n",
      "\"Yes\" they said\n",
      "\"Yes\" they said\n"
     ]
    }
   ],
   "source": [
    "# why don't you?\n",
    "print(\"why don't you?\")     # 가독성이 좋다\n",
    "print('why don\\'t you?')\n",
    "# \"Yes\" they said\n",
    "print('\"Yes\" they said')\n",
    "print(\"\\\"Yes\\\" they said\" )"
   ]
  },
  {
   "cell_type": "markdown",
   "metadata": {},
   "source": [
    ">이스케이프(Escape Character) : \\ + 문자"
   ]
  },
  {
   "cell_type": "code",
   "execution_count": 47,
   "metadata": {},
   "outputs": [
    {
     "name": "stdout",
     "output_type": "stream",
     "text": [
      "First line.\n",
      "Second line.\n",
      "D:\\MyFolder\n",
      "ame\n",
      "D:\\MyFolder\\name\n",
      "D:\\MyFolder\\name\n",
      "이름\t나이\t주소\t\n"
     ]
    }
   ],
   "source": [
    "# 특수 문자를 표현하거나 특수한 기능을 하는 문자\n",
    "print('First line.\\nSecond line.')\n",
    "\n",
    "# 경로명\n",
    "print(\"D:\\MyFolder\\name\")   # 의도치 않게 \\n이 들어간 경우\n",
    "print(\"D:\\\\MyFolder\\\\name\")   # \\\\으로 해결\n",
    "print(r\"D:\\MyFolder\\name\")   # r로 해결\n",
    "\n",
    "#띄어쓰기\n",
    "print(\"이름\\t나이\\t주소\\t\")"
   ]
  },
  {
   "cell_type": "markdown",
   "metadata": {},
   "source": [
    ">여러 줄인 문자열(Multi-Line)"
   ]
  },
  {
   "cell_type": "code",
   "execution_count": 52,
   "metadata": {},
   "outputs": [
    {
     "name": "stdout",
     "output_type": "stream",
     "text": [
      "1. Life is too short\n",
      "2. You need Python\n",
      "\n",
      "1. Life is too short\n",
      "2. You need Python\n",
      "\n",
      " \n",
      "**Menu**\n",
      "1. coffee\n",
      "2. milk\n",
      "3. cake\n",
      "\n",
      "\n",
      "1. coffee milk\n",
      "2. cake\n",
      "\n"
     ]
    }
   ],
   "source": [
    "s1 = \"1. Life is too short\\n2. You need Python\"\n",
    "print(s1)\n",
    "\n",
    "# 줄바꿈 문자열 \n",
    "s2 = \"\"\"\n",
    "1. Life is too short\n",
    "2. You need Python\n",
    "\"\"\"\n",
    "print(s2)\n",
    "print(\"\"\" \n",
    "**Menu**\n",
    "1. coffee\n",
    "2. milk\n",
    "3. cake\n",
    "\"\"\")\n",
    "\n",
    "# 줄바꿈 없는 문자열\n",
    "menu = \"\"\"\n",
    "1. coffee \\\n",
    "milk\n",
    "2. cake\n",
    "\"\"\"\n",
    "print(menu)"
   ]
  },
  {
   "cell_type": "markdown",
   "metadata": {},
   "source": [
    "> 문자열 연산 : +, * "
   ]
  },
  {
   "cell_type": "code",
   "execution_count": null,
   "metadata": {},
   "outputs": [],
   "source": [
    "# \"문자열\" + \"문자열\"\n",
    "print(\"안녕\" + \"하세요\")\n",
    "lan = \"Python \"\n",
    "version = \"3.10.1\"\n",
    "print(lan + version)\n",
    "\n",
    "# \"문자열\" * 숫자\n",
    "print(\"안녕하세요\\n\" * 3)\n",
    "print(\"=\" * 50)\n",
    "print(\"Program\")\n",
    "print(\"=\" * 50)\n"
   ]
  },
  {
   "cell_type": "markdown",
   "metadata": {},
   "source": [
    "> 문자 선택 연산자(인덱싱) : [index] "
   ]
  },
  {
   "cell_type": "code",
   "execution_count": null,
   "metadata": {},
   "outputs": [],
   "source": [
    "# [index] : 문자열과 같은 자료형에서 자료가 메모리에 저장된 순서대로 매겨진 값의 위치 번호\n",
    "array = 'p' 'y' 't' 'h' 'o' 'n'\n",
    "print(\"012345\")\n",
    "print(array)\n",
    "print(array[0])\n",
    "print(array[1])\n",
    "print(array[5])\n",
    "print(array[-1])\n",
    "print(array[-3])\n"
   ]
  },
  {
   "cell_type": "code",
   "execution_count": 68,
   "metadata": {},
   "outputs": [
    {
     "name": "stdout",
     "output_type": "stream",
     "text": [
      "<class 'str'>\n",
      "34\n",
      "0123456789012345678901234567890123\n",
      "Life is too short, You need Python\n"
     ]
    }
   ],
   "source": [
    "array = \"Life is too short, You need Python\"\n",
    "index = \"0123456789012345678901234567890123\"\n",
    "\n",
    "print(type(array))\n",
    "print(len(array))\n",
    "print(index)\n",
    "print(array) "
   ]
  },
  {
   "cell_type": "code",
   "execution_count": 71,
   "metadata": {},
   "outputs": [
    {
     "name": "stdout",
     "output_type": "stream",
     "text": [
      "P\n",
      "P\n",
      "n\n"
     ]
    }
   ],
   "source": [
    "print(array[28])\n",
    "print(array[-6])\n",
    "print(array[len(array)-1])"
   ]
  },
  {
   "cell_type": "markdown",
   "metadata": {},
   "source": [
    ">문자열 범위 선택 연산자(슬라이싱) : [시작 : 끝]\n"
   ]
  },
  {
   "cell_type": "code",
   "execution_count": 77,
   "metadata": {},
   "outputs": [
    {
     "name": "stdout",
     "output_type": "stream",
     "text": [
      "0123456789012345678901234567890123\n",
      "Life is too short, You need Python\n",
      "Life\n",
      "Life\n",
      "short\n",
      "Life\n",
      "Life is too short, You need Python\n"
     ]
    }
   ],
   "source": [
    "print(index)\n",
    "print(array)\n",
    "\n",
    "# 특정 단어(\"Life\")를 추출하려면?\n",
    "word = array[0] + array[1] + array[2] + array[3] \n",
    "print(word)\n",
    "word = array[ 0 : 3+1] # 끝값은 포함이 안돼서 +1 해줘야 한다 시작<= <끝\n",
    "print(word) \n",
    "\n",
    "print(array[12:16+1]) # short 출력\n",
    "print(array[:3+1])\n",
    "print(array[:]) #처음부터 끝까지"
   ]
  },
  {
   "cell_type": "code",
   "execution_count": 106,
   "metadata": {},
   "outputs": [
    {
     "name": "stdout",
     "output_type": "stream",
     "text": [
      "971113-1013721\n",
      "01234567890123\n",
      "생일은 97년 11월 13일 입니다\n",
      "26\n",
      "남자입니다\n"
     ]
    }
   ],
   "source": [
    "data = \"971113-1013721\"\n",
    "# 생일정보, 나이정보, 성별정보 추출하시오\n",
    "print(\"971113-1013721\")\n",
    "print(\"01234567890123\")\n",
    "\n",
    "y = int(data[:2])\n",
    "m = int(data[2:4])\n",
    "d = int(data[4:6])\n",
    "gender = int(data[7])\n",
    "\n",
    "#생년월일\n",
    "print(\"생일은 {}년 {}월 {}일 입니다\" .format(y, m, d))\n",
    "\n",
    "#나이\n",
    "import datetime\n",
    "current = datetime.datetime.now()\n",
    "yearnow = current.year\n",
    "\n",
    "age1 = yearnow- 1900 - y +1\n",
    "if age1 <=0 :\n",
    "    print(age1+100)\n",
    "else :\n",
    "    print(age1)\n",
    "\n",
    "#성별\n",
    "if gender == 1 :\n",
    "    print(\"남자입니다\")\n",
    "else :\n",
    "    print(\"여자입니다\")\n"
   ]
  },
  {
   "cell_type": "markdown",
   "metadata": {},
   "source": [
    "> 문자열 상수(string constants) : immutable 자료형"
   ]
  },
  {
   "cell_type": "code",
   "execution_count": 112,
   "metadata": {},
   "outputs": [
    {
     "ename": "TypeError",
     "evalue": "'str' object does not support item assignment",
     "output_type": "error",
     "traceback": [
      "\u001b[1;31m---------------------------------------------------------------------------\u001b[0m",
      "\u001b[1;31mTypeError\u001b[0m                                 Traceback (most recent call last)",
      "\u001b[1;32m~\\AppData\\Local\\Temp/ipykernel_5504/3726144378.py\u001b[0m in \u001b[0;36m<module>\u001b[1;34m\u001b[0m\n\u001b[0;32m      1\u001b[0m \u001b[0mword\u001b[0m \u001b[1;33m=\u001b[0m \u001b[1;34m\"Jython\"\u001b[0m\u001b[1;33m\u001b[0m\u001b[1;33m\u001b[0m\u001b[0m\n\u001b[1;32m----> 2\u001b[1;33m \u001b[0mword\u001b[0m\u001b[1;33m[\u001b[0m\u001b[1;36m0\u001b[0m\u001b[1;33m]\u001b[0m \u001b[1;33m=\u001b[0m \u001b[1;34m'p'\u001b[0m\u001b[1;33m\u001b[0m\u001b[1;33m\u001b[0m\u001b[0m\n\u001b[0m\u001b[0;32m      3\u001b[0m \u001b[0mprint\u001b[0m\u001b[1;33m(\u001b[0m\u001b[0mword\u001b[0m\u001b[1;33m)\u001b[0m \u001b[1;31m#파이썬은 상수 선언이 없음\u001b[0m\u001b[1;33m\u001b[0m\u001b[1;33m\u001b[0m\u001b[0m\n\u001b[0;32m      4\u001b[0m \u001b[1;33m\u001b[0m\u001b[0m\n\u001b[0;32m      5\u001b[0m \u001b[0mword\u001b[0m \u001b[1;33m=\u001b[0m \u001b[1;34m'p'\u001b[0m \u001b[1;33m+\u001b[0m \u001b[1;34m\"wprd\"\u001b[0m\u001b[1;33m\u001b[0m\u001b[1;33m\u001b[0m\u001b[0m\n",
      "\u001b[1;31mTypeError\u001b[0m: 'str' object does not support item assignment"
     ]
    }
   ],
   "source": [
    "word = \"Jython\"\n",
    "word[0] = 'p'\n",
    "print(word) #파이썬은 상수 선언이 없음 \n",
    "\n",
    "word = 'p' + \"wprd\"\n",
    "# const PI = 3.14 \n",
    "# final PI = 3.14\n",
    "\n",
    "# float PI = 3.14"
   ]
  },
  {
   "cell_type": "code",
   "execution_count": null,
   "metadata": {},
   "outputs": [],
   "source": []
  }
 ],
 "metadata": {
  "interpreter": {
   "hash": "054c0b5073ae8ed56926c5c67113945079b283bacf1a269ae7086b3d9eebd60c"
  },
  "kernelspec": {
   "display_name": "Python 3.10.1 64-bit",
   "language": "python",
   "name": "python3"
  },
  "language_info": {
   "codemirror_mode": {
    "name": "ipython",
    "version": 3
   },
   "file_extension": ".py",
   "mimetype": "text/x-python",
   "name": "python",
   "nbconvert_exporter": "python",
   "pygments_lexer": "ipython3",
   "version": "3.10.1"
  },
  "orig_nbformat": 4
 },
 "nbformat": 4,
 "nbformat_minor": 2
}

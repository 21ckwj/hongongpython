{
 "cells": [
  {
   "cell_type": "markdown",
   "metadata": {},
   "source": [
    "### 02-3 변수와 입력 \n",
    "---   \n",
    "#### 시작하기 전에 \n",
    "***변수***란 값을 저장하여 사용하기 위한 식별자이다. "
   ]
  },
  {
   "cell_type": "markdown",
   "metadata": {},
   "source": [
    ">변수(Variable) 만들기(사용)"
   ]
  },
  {
   "cell_type": "code",
   "execution_count": 3,
   "metadata": {},
   "outputs": [
    {
     "name": "stdout",
     "output_type": "stream",
     "text": [
      "2701396617968\n",
      "계좌잔고: 300000 원\n"
     ]
    }
   ],
   "source": [
    "# 계좌에 100만원 가지고 용산전자상가에서 노트북과 이어폰 사고 정산하기\n",
    "account = 1_000_000 \n",
    "notebook = 500_000\n",
    "earphone = 200_000\n",
    "\n",
    "print(id(account))\n",
    "\n",
    "1_000_000 - (500_000 + 200_000)\n",
    "balance = account - notebook - earphone\n",
    "print(\"계좌잔고:\", balance,\"원\")"
   ]
  },
  {
   "cell_type": "code",
   "execution_count": 5,
   "metadata": {},
   "outputs": [
    {
     "name": "stdout",
     "output_type": "stream",
     "text": [
      "3.141592653589793\n"
     ]
    },
    {
     "data": {
      "text/plain": [
       "3.141592653589793"
      ]
     },
     "execution_count": 5,
     "metadata": {},
     "output_type": "execute_result"
    }
   ],
   "source": [
    "# 원의 둘레 면적 구하는 프로그램\n",
    "\n",
    "import math\n",
    "pi = math.pi\n",
    "print(pi)"
   ]
  },
  {
   "cell_type": "markdown",
   "metadata": {},
   "source": [
    "> 복합대입연산자 : += -= *= /= %= **="
   ]
  },
  {
   "cell_type": "code",
   "execution_count": 18,
   "metadata": {},
   "outputs": [
    {
     "name": "stdout",
     "output_type": "stream",
     "text": [
      "1\n",
      "10\n",
      "20\n",
      "4.0\n",
      "안녕하세요!여러분\n",
      "~여러분\n"
     ]
    }
   ],
   "source": [
    "a = 0 \n",
    "print(a + 1)\n",
    "a += 10 \n",
    "print(a)            #a = 10\n",
    "a += 10 \n",
    "print(a)            #a = 20\n",
    "\n",
    "a /= 5\n",
    "print(a)            #a = 4 (float)\n",
    "\n",
    "#문자열 연산(+, *)\n",
    "string = \"안녕하세요!\"\n",
    "string += \"여러분\"  #string = \"안녕하세요!\" + \"여러분\"\n",
    "print(string)\n"
   ]
  },
  {
   "cell_type": "markdown",
   "metadata": {},
   "source": [
    "> 사용자 입력 : input()"
   ]
  },
  {
   "cell_type": "code",
   "execution_count": 21,
   "metadata": {},
   "outputs": [
    {
     "name": "stdout",
     "output_type": "stream",
     "text": [
      "<class 'int'>\n",
      "20\n"
     ]
    }
   ],
   "source": [
    "keyboard = int(input(\"숫자를 입력해 주세요 \"))          # input 으로 받는 데이터는 '문자열' 데이터다!\n",
    "print(type(keyboard))                                   # 형변환 해줘야 받은 데이터를 사용할 수 있다(예외처리 try)\n",
    "print(keyboard + 10)                                    # 제대로 안하면 품질검사에서 깨진다고 강사님께서 그러신다.."
   ]
  },
  {
   "cell_type": "markdown",
   "metadata": {},
   "source": [
    "> 타입 캐스팅(형변환)"
   ]
  },
  {
   "cell_type": "code",
   "execution_count": 23,
   "metadata": {},
   "outputs": [
    {
     "name": "stdout",
     "output_type": "stream",
     "text": [
      "입력값 10\n",
      "<class 'str'>\n",
      "int(입력값): 10\n",
      "<class 'int'>\n",
      "입력값 +10 =  20\n"
     ]
    }
   ],
   "source": [
    "keyboard = input(\"숫자를 입력해 주세요 \")\n",
    "print(\"입력값\", keyboard)\n",
    "print(type(keyboard))\n",
    "\n",
    "\n",
    "# 'str' to 'int' : 문자열을 숫자로 \n",
    "keyboard = int(keyboard)\n",
    "print(\"int(입력값):\", keyboard)\n",
    "print(type(keyboard))\n",
    "\n",
    "keyboard += 10\n",
    "print(\"입력값 +10 = \", keyboard)\n",
    "\n"
   ]
  },
  {
   "cell_type": "code",
   "execution_count": 24,
   "metadata": {},
   "outputs": [
    {
     "name": "stdout",
     "output_type": "stream",
     "text": [
      "<class 'float'>\n"
     ]
    }
   ],
   "source": [
    "radius = float(input(\"원의 반지름(실수)을 입력하세요: \")) #'3.14' -> 3.14\n",
    "print(type(radius))"
   ]
  },
  {
   "cell_type": "markdown",
   "metadata": {},
   "source": [
    "> 사용자 입력값 계산하기"
   ]
  },
  {
   "cell_type": "code",
   "execution_count": 27,
   "metadata": {},
   "outputs": [
    {
     "name": "stdout",
     "output_type": "stream",
     "text": [
      "두 숫자의 덧셈결과는 4.0, 뺼셈결과는 -2.0, 곱셈결과는 3.0, 나눗셈 결과는 0.3333333333333333 입니다\n"
     ]
    }
   ],
   "source": [
    "# 숫자를 두 번 입력받아 계산하고 결과(사칙연산)를 출력하세요\n",
    "# 직접 작성한 코드\n",
    "\n",
    "def calculate():\n",
    "    number1 = float(input(\"첫번째 숫자를 입력하세요: \"))\n",
    "    number2 = float(input(\"두번째 숫자를 입력하세요: \"))\n",
    "\n",
    "    add = number1 + number2\n",
    "    sub = number1 - number2\n",
    "    mul = number1 * number2\n",
    "    div = number1 / number2\n",
    "\n",
    "    print(\"두 숫자의 덧셈결과는 {}, 뺼셈결과는 {}, 곱셈결과는 {}, 나눗셈 결과는 {} 입니다\".format(add, sub, mul, div))\n",
    "\n",
    "calculate()"
   ]
  },
  {
   "cell_type": "code",
   "execution_count": null,
   "metadata": {},
   "outputs": [],
   "source": [
    "# 숫자를 두 번 입력받아 계산하고 결과(사칙연산)를 출력하세요\n",
    "# 강사님 코드\n",
    "\n",
    "# 변수 선언 및 초기화\n",
    "x = None; y = None\n",
    "\n",
    "data1 = input(\"첫 번째 숫자 입력: \")\n",
    "data2 = input(\"두 번째 숫자 입력: \")\n",
    "\n",
    "x = float(data1)\n",
    "y = float(data2)\n"
   ]
  },
  {
   "cell_type": "markdown",
   "metadata": {},
   "source": [
    "> ValueError 예외"
   ]
  },
  {
   "cell_type": "code",
   "execution_count": null,
   "metadata": {},
   "outputs": [],
   "source": [
    "#print(dir(__builtins__))\n",
    "\n",
    "# 첫째, 숫자가 아닌 자료를 숫자로 변환하려고 할 때\n",
    "# data = int(input(\"정수를 입력하세요: \"))        # input값을 정수형으로 코딩했는데 다른 사용자가 \"Hello\" 문자열 입력한 경우\n",
    "# print(data)\n",
    "\n",
    "i = int(\"123456789\") \n",
    "print(i)\n",
    "\n",
    "int(\"안녕하세요\")                                 #오류 \n",
    "float(\"Python\")             \n",
    "\n",
    "\n",
    "\n"
   ]
  },
  {
   "cell_type": "code",
   "execution_count": null,
   "metadata": {},
   "outputs": [],
   "source": [
    "# 둘째, 소수점이 있는 숫자 형식의 문자열을 int() 형변환하려고 할 때\n",
    "\n",
    "x = 42.195\n",
    "print(int(x))       #정수부분만 출력\n",
    "\n",
    "s = \"42195\"\n",
    "print(int(s))       #문자를 정수로 출력\n",
    "\n",
    "sf = \"42.195\"\n",
    "float(sf)   \n",
    "int(sf)             #오류 ValueError: invalid literal for int() with base 10: '42.195'\n",
    "\n",
    "\n",
    "\n"
   ]
  },
  {
   "cell_type": "markdown",
   "metadata": {},
   "source": [
    "> 숫자를 문자열로 바꾸기 : str()"
   ]
  },
  {
   "cell_type": "code",
   "execution_count": 37,
   "metadata": {},
   "outputs": [
    {
     "name": "stdout",
     "output_type": "stream",
     "text": [
      "50\n",
      "2030\n"
     ]
    }
   ],
   "source": [
    "a = 20 \n",
    "b = 30\n",
    "print(a + b)        # 50\n",
    "\n",
    "a = str(a)          # 20 -> '20'\n",
    "b = str(b)          # 30 -> '30'\n",
    "\n",
    "print(a + b)        # 2030"
   ]
  },
  {
   "cell_type": "code",
   "execution_count": 47,
   "metadata": {},
   "outputs": [
    {
     "name": "stdout",
     "output_type": "stream",
     "text": [
      "오늘의 날짜는 2022-01-05 입니다\n"
     ]
    }
   ],
   "source": [
    "# 오늘의 날짜 : 2022.01.05\n",
    "\n",
    "import datetime\n",
    "today = datetime.datetime.today().strftime('%Y-%m-%d')  #strftime : 형식대로 문자열 출력\n",
    "\n",
    "print(\"오늘의 날짜는 {} 입니다\" .format(today))\n"
   ]
  },
  {
   "cell_type": "code",
   "execution_count": 48,
   "metadata": {},
   "outputs": [
    {
     "name": "stdout",
     "output_type": "stream",
     "text": [
      "5.0인치는 12.7cm입니다\n"
     ]
    }
   ],
   "source": [
    "# 사용자로부터 인치(inch)를 입력받아 (cm) 리턴해주는 프로그램 작성\n",
    "\n",
    "def conversion():\n",
    "    inch = float(input(\"인치(inch)값을 입력하세요: \"))\n",
    "    result = 2.54 * inch                                    # 1 inch = 2.54 cm\n",
    "    print(\"{}인치는 {}cm입니다\" .format(inch, result))\n",
    "    \n",
    "#   print(\"f{inch}인치는 {result}cm입니다\")\n",
    "\n",
    "conversion()"
   ]
  }
 ],
 "metadata": {
  "interpreter": {
   "hash": "054c0b5073ae8ed56926c5c67113945079b283bacf1a269ae7086b3d9eebd60c"
  },
  "kernelspec": {
   "display_name": "Python 3.10.1 64-bit",
   "language": "python",
   "name": "python3"
  },
  "language_info": {
   "codemirror_mode": {
    "name": "ipython",
    "version": 3
   },
   "file_extension": ".py",
   "mimetype": "text/x-python",
   "name": "python",
   "nbconvert_exporter": "python",
   "pygments_lexer": "ipython3",
   "version": "3.10.1"
  },
  "orig_nbformat": 4
 },
 "nbformat": 4,
 "nbformat_minor": 2
}

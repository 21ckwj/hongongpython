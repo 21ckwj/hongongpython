{
 "cells": [
  {
   "cell_type": "markdown",
   "metadata": {},
   "source": [
    "### 02-4 숫자와 문자열의 다양한 기능\n",
    "---\n",
    "#### 시작하기 전에\n",
    "***문자열 자료형의 기능*** 즉, 내장 함수를 알아보기"
   ]
  },
  {
   "cell_type": "code",
   "execution_count": 2,
   "metadata": {},
   "outputs": [
    {
     "name": "stdout",
     "output_type": "stream",
     "text": [
      "LIFE IS SHORT\n",
      "11\n"
     ]
    }
   ],
   "source": [
    "# \"str\".멤버함수호출()\n",
    "\n",
    "print(\"Life is short\".upper())\n",
    "print(\"I am string\".__len__())\n"
   ]
  },
  {
   "cell_type": "markdown",
   "metadata": {},
   "source": [
    "> 서식 지정자(format specifier)로 문자열 만들기\n"
   ]
  },
  {
   "cell_type": "code",
   "execution_count": 14,
   "metadata": {},
   "outputs": [
    {
     "name": "stdout",
     "output_type": "stream",
     "text": [
      "name의 평균 점수는 score입니다.\n",
      "철수의 평균 점수는 85.3입니다.\n",
      "철수의 평균 점수는 85입니다.\n",
      "My name is IU\n"
     ]
    }
   ],
   "source": [
    "# 철수의 평균 점수는 85.3점입니다.\n",
    "# 영희의 평균 점수는 92.3점입니다.\n",
    "# 길동의 평균 점수는 73.3점입니다.\n",
    "# 순이의 평균 점수는 69.3점입니다.\n",
    "\n",
    "# {이름}의 평균 점수는 {점수}점입니다.\n",
    "\n",
    "# 문자열 안에서 특정 부분을 원하는 값으로 바꿀 때 : 서식 지정자 또는 문자열 포멧팅(format())를 사용한다.\n",
    "\n",
    "name = \"철수\"                               # str\n",
    "score = 85.3                                # float\n",
    "print(\"name의 평균 점수는 score입니다.\")    \n",
    "print(\"%s의 평균 점수는 %0.1f입니다.\" %(name, score))  # 실수 \n",
    "print(\"%s의 평균 점수는 %d입니다.\" %(name, score))     # 정수\n",
    "\n",
    "name = 'IU'\n",
    "print(\"My name is %s\" %name)"
   ]
  },
  {
   "cell_type": "code",
   "execution_count": 15,
   "metadata": {},
   "outputs": [
    {
     "name": "stdout",
     "output_type": "stream",
     "text": [
      "철수 학생의 점수는 85점입니다\n",
      "영희 학생의 점수는 98점입니다\n",
      "길산 학생의 점수는 75점입니다\n",
      "희경 학생의 점수는 83점입니다\n",
      "수진 학생의 점수는 91점입니다\n",
      "영수 학생의 점수는 88점입니다\n"
     ]
    }
   ],
   "source": [
    "# 학급 학생들의 점수 출력하기\n",
    "\n",
    "import time\n",
    "\n",
    "names = [\"철수\", \"영희\", \"길산\", \"희경\", \"수진\", \"영수\"]\n",
    "scores  = [85, 98, 75, 83, 91, 88]\n",
    "\n",
    "for i in range(0,6) :                                                 \n",
    "    print(\"%s 학생의 점수는 %d점입니다\" %(names[i], scores[i]))\n",
    "    time.sleep(1)"
   ]
  },
  {
   "cell_type": "markdown",
   "metadata": {},
   "source": [
    "> 문자열 format() 함수"
   ]
  },
  {
   "cell_type": "code",
   "execution_count": 16,
   "metadata": {},
   "outputs": [
    {
     "name": "stdout",
     "output_type": "stream",
     "text": [
      "오늘은 2022년 1월 5일입니다.\n"
     ]
    }
   ],
   "source": [
    "# 문자열 안에서 정수 변수를 사용할 때\n",
    "\n",
    "year = 2022\n",
    "month = 1\n",
    "day = 5\n",
    "\n",
    "today = \"오늘은 2022년 1월 5일입니다.\" \n",
    "today = \"오늘은 year년 month월 day일입니다.\" \n",
    "today = \"오늘은\" + str(year) + \"년\" + str(month) + \"월\" + str(day) + \"일입니다\"\n",
    "today = \"오늘은 {}년 {}월 {}일입니다.\".format(year, month, day)     \n",
    "\n",
    "print(today)\n",
    "\n"
   ]
  },
  {
   "cell_type": "code",
   "execution_count": 22,
   "metadata": {},
   "outputs": [
    {
     "name": "stdout",
     "output_type": "stream",
     "text": [
      "띵동~ 189번 고객님 접수창구로 와주세요\n",
      "띵동~ 190번 고객님 접수창구로 와주세요\n",
      "띵동~ 191번 고객님 접수창구로 와주세요\n",
      "띵동~ 189번 고객님 접수창구로 와주세요\n",
      "띵동~ 190번 고객님 접수창구로 와주세요\n",
      "띵동~ 191번 고객님 접수창구로 와주세요\n"
     ]
    }
   ],
   "source": [
    "def call(number) :\n",
    "    print(\"띵동~ {}번 고객님 접수창구로 와주세요\".format(number))\n",
    "\n",
    "call(189)\n",
    "call(190)\n",
    "call(191)\n",
    "\n",
    "for i in range(189,192):\n",
    "    print(\"띵동~ {}번 고객님 접수창구로 와주세요\".format(i))"
   ]
  },
  {
   "cell_type": "code",
   "execution_count": 24,
   "metadata": {},
   "outputs": [
    {
     "name": "stdout",
     "output_type": "stream",
     "text": [
      "Programming Language Python Script 3.10.1\n",
      "Python Python Script Script\n",
      "Hello, Python 3.10.1\n",
      "Hello, Java 11\n"
     ]
    }
   ],
   "source": [
    "#format() 함수의 다양한 형태\n",
    "data1 = \"{}만원\".format(5000)\n",
    "data2 = \"{}M, {}M, {}M 달리기\".format(100, 400, 800)\n",
    "\n",
    "#인덱스 사용\n",
    "data3 = \"Programming Language {} {} {}\".format(\"Python\", \"Script\", \"3.10.1\")\n",
    "print(data3)\n",
    "\n",
    "data4 = \"{0} {0} {1} {1}\".format('Python', 'Script')                            # format의 인덱스 값을 {}에 넣어서 표현가능    \n",
    "print(data4)\n",
    "\n",
    "data5 = \"Hello, {lan} {ver}\".format(lan = \"Python\", ver = \"3.10.1\")             # 변수이름을 {}에 넣어서 표현가능\n",
    "print(data5)\n",
    "\n",
    "# 변수명 그대로 사용하기\n",
    "lan = 'Java'\n",
    "ver = '11'\n",
    "data6 = f\"Hello, {lan} {ver}\"\n",
    "print(data6) "
   ]
  },
  {
   "cell_type": "markdown",
   "metadata": {},
   "source": [
    "> IndexError 예외 : {} 인덱스 개수가 함수 매개변수 개수보다 많은 경우"
   ]
  },
  {
   "cell_type": "code",
   "execution_count": null,
   "metadata": {},
   "outputs": [],
   "source": [
    "print(\"{} {}\".format(1,2,3,4,5))\n",
    "print(\"{} {} {}\".format(1,2))            #IndexError 실무에선 데이터명이 길어져서 개수 일치 잘 확인 못할수있다\n"
   ]
  },
  {
   "cell_type": "markdown",
   "metadata": {},
   "source": [
    "> format()  함수의 다양한 기능 : 숫자 관련"
   ]
  },
  {
   "cell_type": "code",
   "execution_count": 38,
   "metadata": {},
   "outputs": [
    {
     "name": "stdout",
     "output_type": "stream",
     "text": [
      "52\n",
      "52\n",
      "   52\n",
      "00052\n",
      "[지출내역]\n",
      " 1200 (만원)\n",
      "  200 (만원)\n",
      "   15 (만원)\n",
      " 3500 (만원)\n",
      " 1200 (만원)\n"
     ]
    }
   ],
   "source": [
    "output_a = \"{:d}\".format(52)\n",
    "print(output_a)\n",
    "\n",
    "output_a = \"{:s}\".format('52')\n",
    "print(output_a)\n",
    "\n",
    "output_a = \"{:5d}\".format(52)\n",
    "print(output_a)\n",
    "\n",
    "output_a = \"{:05d}\".format(52)\n",
    "print(output_a)\n",
    "\n",
    "print(\"[지출내역]\")\n",
    "cost1 = \"{:5d} (만원)\".format(1200)                     # (만원) 의 위치가 깔끔하게 정렬되는 효과를 줄 수 있다\n",
    "cost2 = \"{:5d} (만원)\".format(200)\n",
    "cost3 = \"{:5d} (만원)\".format(15)\n",
    "cost4 = \"{:5d} (만원)\".format(3500)\n",
    "cost5 = \"{:5d} (만원)\".format(1200)\n",
    "print(cost1)\n",
    "print(cost2)\n",
    "print(cost3)\n",
    "print(cost4)\n",
    "print(cost5)\n"
   ]
  },
  {
   "cell_type": "code",
   "execution_count": 97,
   "metadata": {},
   "outputs": [
    {
     "name": "stdout",
     "output_type": "stream",
     "text": [
      "+55\n",
      "-55\n"
     ]
    }
   ],
   "source": [
    "#기호와 함께 출력하기\n",
    "output_a = \"{:+d}\".format(55)               # 한번도 안보면 모를 수 있다\n",
    "print(output_a)                             # 55 \n",
    "\n",
    "output_b = \"{:+d}\".format(-55)\n",
    "print(output_b)                             # -55"
   ]
  },
  {
   "cell_type": "code",
   "execution_count": 70,
   "metadata": {},
   "outputs": [
    {
     "name": "stdout",
     "output_type": "stream",
     "text": [
      "  +24\n",
      "+0024\n"
     ]
    }
   ],
   "source": [
    "output_a = \"{:+5d}\".format(24)               # 한번도 안보면 모를 수 있다\n",
    "print(output_a)\n",
    "\n",
    "output_b = \"{:=+05d}\".format(24)\n",
    "print(output_b)"
   ]
  },
  {
   "cell_type": "code",
   "execution_count": 45,
   "metadata": {},
   "outputs": [
    {
     "name": "stdout",
     "output_type": "stream",
     "text": [
      "3.141592\n",
      "      +3.141592\n",
      "        3.14159\n",
      "+00000003.14159\n"
     ]
    }
   ],
   "source": [
    "# 부동소수점 출력의 형태\n",
    "print(\"{:f}\".format(3.141592))\n",
    "print(\"{:+15f}\".format(3.141592))\n",
    "\n",
    "#소수점 아래 자릿 수 지정하기(알아두기)\n",
    "print(\"{:15.5f}\".format(3.141592))\n",
    "print(\"{:+015.5f}\".format(3.141592))"
   ]
  },
  {
   "cell_type": "markdown",
   "metadata": {},
   "source": [
    "> 대소문자 바꾸기 : upper()와 lower()\n"
   ]
  },
  {
   "cell_type": "code",
   "execution_count": 48,
   "metadata": {},
   "outputs": [
    {
     "data": {
      "text/plain": [
       "'Hello python programming...!'"
      ]
     },
     "execution_count": 48,
     "metadata": {},
     "output_type": "execute_result"
    }
   ],
   "source": [
    "sentence = \"Hello Python Programming...!\"\n",
    "sentence.upper()\n",
    "sentence.lower()\n",
    "sentence.capitalize()"
   ]
  },
  {
   "cell_type": "markdown",
   "metadata": {},
   "source": [
    "> 문자열 공백 제거하기 : strip(), lstrip(), rstrip()"
   ]
  },
  {
   "cell_type": "code",
   "execution_count": 64,
   "metadata": {},
   "outputs": [
    {
     "name": "stdout",
     "output_type": "stream",
     "text": [
      "입력값:                 Python\n",
      "22\n",
      "Python\n"
     ]
    }
   ],
   "source": [
    "input_data = \"                Python\"           #공백이 많은 데이터를 받은경우\n",
    "print(f\"입력값: {input_data}\")\n",
    "print(len(input_data))\n",
    "\n",
    "sentence = input_data.strip() \n",
    "print(sentence)\n"
   ]
  },
  {
   "cell_type": "markdown",
   "metadata": {},
   "source": [
    "> 특정 문자 제거하기"
   ]
  },
  {
   "cell_type": "code",
   "execution_count": 66,
   "metadata": {},
   "outputs": [
    {
     "name": "stdout",
     "output_type": "stream",
     "text": [
      "input_data :  , Python. / *\n",
      "Python\n",
      "6\n",
      "!\"#$%&'()*+,-./:;<=>?@[\\]^_`{|}~\n",
      "python\n",
      "python\n"
     ]
    }
   ],
   "source": [
    "input_data = \" , Python. / *\"\n",
    "print(f\"input_data : {input_data}\")\n",
    "\n",
    "strip_data = input_data.strip(\",./ *\")\n",
    "print(strip_data)\n",
    "print(len(strip_data))\n",
    "\n",
    "#구두점을 간단하게 삭제하는 방법\n",
    "import string\n",
    "print(string.punctuation)\n",
    "input_data1 = \"\"\"!@#'\"$%^=-+python&&*()\"\"\"                        #내가 쓴 아무 특수기호안에 python     \n",
    "input_data2 = \"\"\"!\"#$%&'()*+,-.python/:;<=>?@[\\]^_`{|}~\"\"\"        #string.punctuation 출력 안에 python 추출\n",
    "\n",
    "strip_data1 = input_data1.strip(string.punctuation)                 #주의: input_data에 공백 들어가 있으면 실행 안됨    \n",
    "strip_data2 = input_data2.strip(string.punctuation)                 #.upper() 붙이면 대문자로 추출\n",
    "print(strip_data1)\n",
    "print(strip_data2)\n"
   ]
  },
  {
   "cell_type": "markdown",
   "metadata": {},
   "source": [
    "> 문자열의 구성 파악하기 : is__()"
   ]
  },
  {
   "cell_type": "code",
   "execution_count": 72,
   "metadata": {},
   "outputs": [
    {
     "name": "stdout",
     "output_type": "stream",
     "text": [
      "문자를 입력하세요\n"
     ]
    }
   ],
   "source": [
    "# 불(bool) 자료형 리턴\n",
    "\"abc123\".isalnum()      #알파벳 숫자 인가? True\n",
    "\"abc\".isalpha()         #알파벳인가? True\n",
    "\"123a\".isnumeric()      #False\n",
    "\"123.45\".isdecimal()    #isdecimal()\n",
    "\"12345\".isdigit()\n",
    "\"ABCD\".isupper()\n",
    "\n",
    "name = \"123\"\n",
    "if name.isalpha():\n",
    "    print(\"다음단계로 이동\")\n",
    "else:\n",
    "    print(\"문자를 입력하세요\")"
   ]
  },
  {
   "cell_type": "markdown",
   "metadata": {},
   "source": [
    "> 문자열 위치 찾기 : find(), rfind()"
   ]
  },
  {
   "cell_type": "code",
   "execution_count": 74,
   "metadata": {},
   "outputs": [
    {
     "data": {
      "text/plain": [
       "12"
      ]
     },
     "execution_count": 74,
     "metadata": {},
     "output_type": "execute_result"
    }
   ],
   "source": [
    "#  find() : 왼쪽부터 찾아서 처음 등장하는 위치를 반환\n",
    "# rfind() : 오른쪽부터 찾아서 처음 등장하는 위치를 반환\n",
    "\n",
    "i = '012345678901234'\n",
    "s = 'apple pineapple'\n",
    "\n",
    "s.find('pl')        # 인덱스값 : 2\n",
    "s.rfind('pl')       # 인덱스값 : 12\n",
    "\n"
   ]
  },
  {
   "cell_type": "markdown",
   "metadata": {},
   "source": [
    "> 문자열과 in 연산자"
   ]
  },
  {
   "cell_type": "code",
   "execution_count": 78,
   "metadata": {},
   "outputs": [
    {
     "name": "stdout",
     "output_type": "stream",
     "text": [
      "True\n",
      "True\n",
      "1\n"
     ]
    }
   ],
   "source": [
    "# 문자열 내부에 어떤 (지정한) 문자열이 있는지 확인하기\n",
    "print(\"pine\" in s)\n",
    "\n",
    "sentence = \"\"\" The core of extensible programming is defining functions.            \n",
    "Python allows mandatory and optional arguments,\n",
    " keyword arguments, and even arbitrary argument lists. \n",
    "\"\"\"\n",
    "\n",
    "print(\"Python\" in sentence)\n",
    "\n",
    "# 문자열 개수 세기 : count() 특정 문자열이 몇 번 나오는지 알아내기\n",
    "print(sentence.count(\"Python\"))"
   ]
  },
  {
   "cell_type": "markdown",
   "metadata": {},
   "source": [
    "> 문자열 자르기 : split()"
   ]
  },
  {
   "cell_type": "code",
   "execution_count": 96,
   "metadata": {},
   "outputs": [
    {
     "name": "stdout",
     "output_type": "stream",
     "text": [
      "['10', '20', '30', '40', '50']\n",
      "['apple', 'pear', 'grape', 'pineapple', 'orange']\n",
      "['baseball', 'football', 'golf', 'boxing', 'basketball']\n",
      "baseball\n",
      "football\n",
      "golf\n",
      "boxing\n",
      "basketball\n",
      "baseball\n",
      "football\n",
      "golf\n",
      "boxing\n",
      "basketball\n"
     ]
    }
   ],
   "source": [
    "# 문자열을 특정 문자로 자를 때 사용\n",
    "li = \"10 20 30 40 50\".split()       # split() 괄호안에 아무것도 안쓰면 그냥 공백 기준으로 나눔\n",
    "print(li)\n",
    "\n",
    "fruits = \"apple pear grape pineapple orange\"\n",
    "li = fruits.split()\n",
    "print(li)\n",
    "\n",
    "li[0]\n",
    "li[-1]\n",
    "\n",
    "sports = \"baseball/football/golf/boxing/basketball\"\n",
    "li = sports.split(\"/\")\n",
    "print(li)\n",
    "\n",
    "for s in ['baseball', 'football', 'golf', 'boxing', 'basketball']:\n",
    "    print(s)\n",
    "\n",
    "# for i in li:                    # TypeError: list indices must be integers or slices, not str\n",
    "#     print(li[i])                # in 뒤에는 i의 범위를 나타내주는 숫자범위가 와야 하는데 문자열이 와서 에러 \n",
    "\n",
    "for i in range(len(li)):\n",
    "    print(li[i])"
   ]
  },
  {
   "cell_type": "code",
   "execution_count": 86,
   "metadata": {},
   "outputs": [
    {
     "name": "stdout",
     "output_type": "stream",
     "text": [
      "['2022', '1', '5']\n",
      "오늘은 2022년 1월 5일입니다\n"
     ]
    }
   ],
   "source": [
    "date = \"2022.1.5\"\n",
    "li = date.split(\".\")\n",
    "print(li)\n",
    "\n",
    "year = li[0]\n",
    "month = li[1]\n",
    "day = li[2]\n",
    "\n",
    "print(f\"오늘은 {year}년 {month}월 {day}일입니다\")"
   ]
  },
  {
   "cell_type": "markdown",
   "metadata": {},
   "source": [
    "> 사용자로부터 입력 받은 모든 정수의 합을 리턴해주는 프로그램 작성 : input_split.py"
   ]
  },
  {
   "cell_type": "code",
   "execution_count": 95,
   "metadata": {},
   "outputs": [
    {
     "name": "stdout",
     "output_type": "stream",
     "text": [
      "60\n"
     ]
    }
   ],
   "source": [
    "#사용자는 [10 20 30]    #10 20 스페이스바 치면 자동으로 리스트로 입력됨 \n",
    "\n",
    "\n",
    "# 내꺼\n",
    "# def result():\n",
    "#     num = input('숫자를 입력하세요:')\n",
    "#     number = num.split()\n",
    "#     sum = 0\n",
    "#     for i in range(len(number)):\n",
    "#         sum += int(sum[i])\n",
    "#     print(sum)\n",
    "# result()\n",
    "\n",
    "def result():\n",
    "    num = input('숫자를 입력하세요:')\n",
    "    number = num.split()\n",
    "    sum = 0\n",
    "    for a in number:\n",
    "        sum += int(a)\n",
    "    print(sum)\n",
    "result()"
   ]
  }
 ],
 "metadata": {
  "interpreter": {
   "hash": "054c0b5073ae8ed56926c5c67113945079b283bacf1a269ae7086b3d9eebd60c"
  },
  "kernelspec": {
   "display_name": "Python 3.10.1 64-bit",
   "language": "python",
   "name": "python3"
  },
  "language_info": {
   "codemirror_mode": {
    "name": "ipython",
    "version": 3
   },
   "file_extension": ".py",
   "mimetype": "text/x-python",
   "name": "python",
   "nbconvert_exporter": "python",
   "pygments_lexer": "ipython3",
   "version": "3.10.1"
  },
  "orig_nbformat": 4
 },
 "nbformat": 4,
 "nbformat_minor": 2
}

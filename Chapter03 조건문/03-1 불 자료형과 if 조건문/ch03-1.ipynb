{
 "cells": [
  {
   "cell_type": "markdown",
   "metadata": {},
   "source": [
    "### 03-1 불 자료형과 if 조건문\n",
    "---\n",
    "#### 시작하기 전에\n",
    "***Boolean*** 은 **불린** 또는 **불리언** : **True**(참)과 **False**(거짓)을 나타내는 값"
   ]
  },
  {
   "cell_type": "code",
   "execution_count": 1,
   "metadata": {},
   "outputs": [
    {
     "name": "stdout",
     "output_type": "stream",
     "text": [
      "True False <class 'bool'>\n"
     ]
    }
   ],
   "source": [
    "a = True\n",
    "b = False\n",
    "print(a, b, type(a))"
   ]
  },
  {
   "cell_type": "markdown",
   "metadata": {},
   "source": [
    "> bool 만들기 : 비교연산자"
   ]
  },
  {
   "cell_type": "code",
   "execution_count": 5,
   "metadata": {},
   "outputs": [
    {
     "name": "stdout",
     "output_type": "stream",
     "text": [
      "False\n",
      "True\n",
      "True\n",
      "False\n",
      "True\n",
      "False\n"
     ]
    }
   ],
   "source": [
    "# 숫자비교 \n",
    "print(10 == 100) \n",
    "print(10 != 100)\n",
    "print(10 < 100)\n",
    "print(10 > 100)\n",
    "print(10 <= 100)\n",
    "print(10 >= 100)"
   ]
  },
  {
   "cell_type": "code",
   "execution_count": null,
   "metadata": {},
   "outputs": [],
   "source": [
    "#문자열 비교\n",
    "print(\"KOR\" == \"kor\")       #False\n",
    "print(\"KOR\" == \"KOR\")       #True   \n",
    "print(\"가방\"!= \"KOR\")       #True\n",
    "\n",
    "print(\"A\" < \"K\")            #아스키코드로 비교가능\n",
    "print(\"A\" < \"a\")            #True\n",
    "\n",
    "print(\"A\"<\"a\")              #True\n",
    "print(\"가\" > \"하\")          #False\n",
    "\n",
    "print(ord(\"가\"))            #44032\n",
    "print(ord(\"하\"))            #54616"
   ]
  },
  {
   "cell_type": "code",
   "execution_count": 13,
   "metadata": {},
   "outputs": [
    {
     "name": "stdout",
     "output_type": "stream",
     "text": [
      "True\n",
      "True\n"
     ]
    }
   ],
   "source": [
    "# 범위 비교 \n",
    "x = 25\n",
    "print(10 < x <30)           #파이썬만 가능함(간결,직관 표현에 초점)\n",
    "print(25 <= x < 30)"
   ]
  },
  {
   "cell_type": "markdown",
   "metadata": {},
   "source": [
    "> bool 비교연산자"
   ]
  },
  {
   "cell_type": "code",
   "execution_count": 14,
   "metadata": {},
   "outputs": [
    {
     "data": {
      "text/plain": [
       "True"
      ]
     },
     "execution_count": 14,
     "metadata": {},
     "output_type": "execute_result"
    }
   ],
   "source": [
    "# bool 끼리 연산 : 논리 연산자(not, and, or) && ||\n",
    "\n",
    "# and 는 All 모든 값이 True 이어야 True 반환 \n",
    "True and True \n",
    "True and True and True and True and True and True and True and False\n",
    "\n",
    "# or 는 Any 어느 하나라도 True이면 True 반환\n",
    "True or False \n",
    "False or False or False or False or False or False or False or True\n",
    "\n",
    "# not 은 논리값 뒤집기(반대)\n",
    "not True\n",
    "not False \n",
    "\n",
    "# 논리 연산자 우선순위 : not > and > or \n",
    "not True and False or not False\n",
    "#    False and False or True\n",
    "#         False      or TrueX "
   ]
  },
  {
   "cell_type": "markdown",
   "metadata": {},
   "source": [
    "> 논리 연산자와 비교 연산자를 함께 사용"
   ]
  },
  {
   "cell_type": "code",
   "execution_count": 4,
   "metadata": {},
   "outputs": [
    {
     "data": {
      "text/plain": [
       "False"
      ]
     },
     "execution_count": 4,
     "metadata": {},
     "output_type": "execute_result"
    }
   ],
   "source": [
    "# 비교 연산자로 비교한 결과를 논리 연산자로 최종 리턴\n",
    "\n",
    "10 == 10 and 10 != 5            #True   \n",
    "10 > 5 or 10 < 3                #True    \n",
    "not 10 > 5                        #False"
   ]
  },
  {
   "cell_type": "markdown",
   "metadata": {},
   "source": [
    "> 자료형의 참과 거짓 : bool() 내장(built-in) 함수"
   ]
  },
  {
   "cell_type": "code",
   "execution_count": 29,
   "metadata": {},
   "outputs": [
    {
     "data": {
      "text/plain": [
       "True"
      ]
     },
     "execution_count": 29,
     "metadata": {},
     "output_type": "execute_result"
    }
   ],
   "source": [
    "# print(1 + True)             # 왜 값이 2로 나올까?\n",
    "\n",
    "# 0, 0.0 이외의 모든 숫자는 True\n",
    "bool(-1)                  \n",
    "bool(0)\n",
    "bool(3.14)\n",
    "bool(0.0)\n",
    "\n",
    "# print(1+ False)             # True =1 False = 0\n",
    "\n",
    "# '', \"\" 제외한 모든 문자열 True\n",
    "bool(\"문자열\")              # 어떤값을 넣어도 True\n",
    "bool('')                    # 값이 없으면 False\n",
    "\n",
    "# [], (), {} 등 빈 컨테이너(리스트, 튜플, 딕셔너리 등의 값이 비어있는 경우)를 제외한 모든 자료형 True\n",
    "bool([1,2,3])               # True\n",
    "bool([])                    # False\n",
    "bool({1:a,})\n",
    "\n"
   ]
  },
  {
   "cell_type": "markdown",
   "metadata": {},
   "source": [
    "> 단락 평가(short-circuit evaluation) : 표현식에 대한 평가를 생략하는 방법"
   ]
  },
  {
   "cell_type": "code",
   "execution_count": 30,
   "metadata": {},
   "outputs": [
    {
     "data": {
      "text/plain": [
       "False"
      ]
     },
     "execution_count": 30,
     "metadata": {},
     "output_type": "execute_result"
    }
   ],
   "source": [
    "# 첫 번째 값이 거짓이므로 두번째 값은 확인하지 않고 거짓으로 결정                      # 코드리뷰시에 조금이라도 단축시킬 수 있는 걸 찾을때\n",
    "False and True\n",
    "10 < 1 and 3 == 3 and 4 % 2 == 0                                                       # and의 경우 하나라도 False가 나오면 False 출력이기 때문에\n",
    "                                                                                       # False 값을 앞에 써준다\n",
    "\n",
    "# 첫 번째 값이 참이므로 두 번째 값은 확인하지 않고 참으로 결정\n",
    "True or True \n",
    "True or False\n",
    "10 < 1 or 3 == 3 or 4 % 2 == 0                                                          # or의 경우 하나라도 True가 나오면 True 출력이기 때문에\n",
    "                                                                                        # True 값을 앞에 써준다\n",
    "\n",
    "\n",
    "# 논리 연산식을 연결할 때 논리 판단 표현식의 순서에 따라서 프로그램의 성능에 영향을 준다.\n"
   ]
  },
  {
   "cell_type": "markdown",
   "metadata": {},
   "source": [
    "> bool 의 사용 : if, while 등 조건식을 만들 때 사용"
   ]
  },
  {
   "cell_type": "code",
   "execution_count": 34,
   "metadata": {},
   "outputs": [
    {
     "name": "stdout",
     "output_type": "stream",
     "text": [
      "참\n",
      "13은 홀수 입니다.\n"
     ]
    }
   ],
   "source": [
    "if True :\n",
    "    print(\"참\")\n",
    "\n",
    "n = 13\n",
    "if n % 2 == 0 :\n",
    "    print(f\"{n}은 짝수 입니다.\")\n",
    "else :\n",
    "    print(f\"{n}은 홀수 입니다.\")\n"
   ]
  },
  {
   "cell_type": "code",
   "execution_count": 37,
   "metadata": {},
   "outputs": [
    {
     "name": "stdout",
     "output_type": "stream",
     "text": [
      "[]\n",
      "False\n",
      "[1]\n",
      "[1, 2]\n"
     ]
    }
   ],
   "source": [
    "li = [] \n",
    "print(li)\n",
    "print(bool(li))          # 실무 코딩시에 li는 변수로 들어올 것이고 비어있는지 확인할때 bool함수 사용\n",
    "\n",
    "if not li:               # 리스트가 비어있다면 1을 추가해 주세요\n",
    "    li.append(1)\n",
    "print(li)\n",
    "\n",
    "if li: \n",
    "    li.append(2)\n",
    "print(li)"
   ]
  },
  {
   "cell_type": "code",
   "execution_count": 38,
   "metadata": {},
   "outputs": [
    {
     "name": "stdout",
     "output_type": "stream",
     "text": [
      "참\n",
      "['a', 'b', 'c', 'd', 'e', 'f']\n",
      "['a', 'b', 'c', 'd', 'e']\n",
      "['a', 'b', 'c', 'd']\n",
      "['a', 'b', 'c']\n",
      "['a', 'b']\n",
      "['a']\n",
      "[]\n"
     ]
    }
   ],
   "source": [
    "# 프로그램에서 참과 거짓의 쓰임새 : while \n",
    "\n",
    "if [1, 2, 3]:\n",
    "    print(\"참\")\n",
    "else :\n",
    "    print(\"거짓\")\n",
    "\n",
    "a = ['a', 'b', 'c', 'd', 'e', 'f']\n",
    "print(a)\n",
    "\n",
    "while a:        # 리스트에 값이 있으니 True ->실행됨\n",
    "    a.pop()     # 리스트 값을 하나씩 빼줌\n",
    "    print(a)    "
   ]
  },
  {
   "cell_type": "markdown",
   "metadata": {},
   "source": [
    "> if 조건문 : 조건에 따라 코드의 실행을 분기하고자 할 때 (실행의 흐름을 제어)"
   ]
  },
  {
   "cell_type": "code",
   "execution_count": 47,
   "metadata": {},
   "outputs": [
    {
     "name": "stdout",
     "output_type": "stream",
     "text": [
      "불합격입니다.\n"
     ]
    }
   ],
   "source": [
    "score = 55\n",
    "CUT_LINE = 60\n",
    "if score >= CUT_LINE:\n",
    "    print(\"합격 하셨습니다\")\n",
    "\n",
    "else:\n",
    "    print(\"불합격입니다.\")\n",
    "\n",
    "    "
   ]
  },
  {
   "cell_type": "code",
   "execution_count": null,
   "metadata": {},
   "outputs": [],
   "source": [
    "# 사용자로부터 정수를 입력받아 양수, 음수를 판별하는 프로그램 작성(입력데이터 유효성 검증 처리 할 것)\n",
    "\n",
    "# def d():                                            #음수를 입력 시 \"잘못입력했습니다\" 출력 문제가 뭘까?\n",
    "#     num = input(\"숫자를 입력하세요\")\n",
    "#     if num.isdigit():\n",
    "#         number = int(num)\n",
    "#         if number > 0:\n",
    "#             print(\"양수입니다\")\n",
    "#         elif number < 0 :\n",
    "#             print(\"음수 입니다.\")\n",
    "#         else :\n",
    "#             print(\" 0 입니다\")\n",
    "#     else :\n",
    "#         print(\"잘못입력했습니다\")\n",
    "# d()\n",
    "\n",
    "\n",
    "# #강사님 코드\n",
    "\n",
    "input_data = input(\"정수를 하나 입력하세요: \")\n",
    "number = None\n",
    "\n",
    "# 입력데이터 유효성 검증\n",
    "\n",
    "# 숫자라면..\n",
    "if not input_data.isalpha():\n",
    "    number = int(input_data)\n",
    "    print(\"입력값:\", number)\n",
    "# 문자열이 아니라면...\n",
    "else:\n",
    "    print(\"숫자가 아닙니다\")    \n",
    "    print(\"프로그램을 종료합니다\")\n",
    "    quit() \n",
    "\n",
    "# 양수/음수 판별\n",
    "if number > 0:\n",
    "    print(\"양수 입니다.\")\n",
    "if number < 0:\n",
    "    print(\"음수 입니다\")    \n",
    "if number == 0:\n",
    "    print(\"0 입니다.\") "
   ]
  }
 ],
 "metadata": {
  "interpreter": {
   "hash": "054c0b5073ae8ed56926c5c67113945079b283bacf1a269ae7086b3d9eebd60c"
  },
  "kernelspec": {
   "display_name": "Python 3.10.1 64-bit",
   "language": "python",
   "name": "python3"
  },
  "language_info": {
   "codemirror_mode": {
    "name": "ipython",
    "version": 3
   },
   "file_extension": ".py",
   "mimetype": "text/x-python",
   "name": "python",
   "nbconvert_exporter": "python",
   "pygments_lexer": "ipython3",
   "version": "3.10.1"
  },
  "orig_nbformat": 4
 },
 "nbformat": 4,
 "nbformat_minor": 2
}

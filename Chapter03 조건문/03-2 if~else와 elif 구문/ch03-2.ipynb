{
 "cells": [
  {
   "cell_type": "markdown",
   "metadata": {},
   "source": [
    "### 03-2 if ~ else 와 elif 문\n",
    "---\n",
    "#### 시작하기 전에 \n",
    "**두 가지**만 구분되는 실행 흐름 : 오전/오후, 주간/야간, 남/여, 합격/불합격"
   ]
  },
  {
   "cell_type": "code",
   "execution_count": 9,
   "metadata": {},
   "outputs": [
    {
     "data": {
      "text/plain": [
       "'13'"
      ]
     },
     "execution_count": 9,
     "metadata": {},
     "output_type": "execute_result"
    }
   ],
   "source": [
    "#현재 시간을 받아와 오전 오후를 나누기\n",
    "\n",
    "import datetime\n",
    "time = datetime.datetime.now().strftime('%H')\n"
   ]
  },
  {
   "cell_type": "markdown",
   "metadata": {},
   "source": [
    ">elif 구문 : 여러가지 케이스로 분기하고자 할 때"
   ]
  },
  {
   "cell_type": "code",
   "execution_count": null,
   "metadata": {},
   "outputs": [],
   "source": [
    "# 계절별, 요일별...\n",
    "\n",
    "#학점 판별\n",
    "score = 0\n",
    "grade = \"\"\n",
    "\n",
    "score = int(input(\"점수를 입력하세요: \"))\n",
    "if score >= 95:                             # 95 <= score < 100 이런식의 표현은 부하가 더 일어날 수 있어 바람직하지 않음\n",
    "    grade = \"A+\"                            # 위에서부터 순서대로 처리하기 때문에 \n",
    "elif score >= 90:                           # 실무에서 범위가 아닌 단순한 True/False 일 경우 중요한 걸 위로 올려야 한다\n",
    "    grade = \"A\"\n",
    "elif score >= 85:\n",
    "    grade = \"B+\"\n",
    "elif score >= 80:\n",
    "    grade = \"B\"\n",
    "elif score >=75:\n",
    "    grade = \"C+\"\n",
    "elif score >= 70:\n",
    "    grade = \"C\"\n",
    "else:\n",
    "    grade = \"0\"\n",
    "\n",
    "print(f\"당신의 점수는 {score}점이고, 등급은 {grade}입니다.\")\n"
   ]
  },
  {
   "cell_type": "markdown",
   "metadata": {},
   "source": [
    "> False로 변환되는 값 : 0, 0.0, 빈 컨테이너, 빈 문자열, None"
   ]
  },
  {
   "cell_type": "code",
   "execution_count": 10,
   "metadata": {},
   "outputs": [
    {
     "name": "stdout",
     "output_type": "stream",
     "text": [
      "0은 False로 변환\n"
     ]
    },
    {
     "data": {
      "text/plain": [
       "False"
      ]
     },
     "execution_count": 10,
     "metadata": {},
     "output_type": "execute_result"
    }
   ],
   "source": [
    "if 0 :                                      # False 라면\n",
    "    print(\"0은 True로 변환\")\n",
    "else :                                      # False 가 아니라면\n",
    "    print(\"0은 False로 변환\") \n",
    "\n",
    "# if \"\":\n",
    "# else\n",
    "\n",
    "bool(None) "
   ]
  },
  {
   "cell_type": "markdown",
   "metadata": {},
   "source": [
    "> pass 키워드 : 프로그래밍 시 전체 골격을 잡아 놓고 처리할 내용은 추후에 구현하고자 할 때"
   ]
  },
  {
   "cell_type": "code",
   "execution_count": null,
   "metadata": {},
   "outputs": [],
   "source": [
    "number = input(\"정수입력 > \")\n",
    "number = int(number)\n",
    "if number > 0 :\n",
    "    # 양수일 때 : 아직 미구현 상태\n",
    "    0 \n",
    "else: \n",
    "    # 음수일 때 : 아직 미구현 상태\n",
    "    0\n",
    "\n",
    "if number > 0 :\n",
    "    pass\n",
    "else:\n",
    "    pass\n",
    "\n",
    "# 예외처리 \n",
    "if number > 0 :\n",
    "    raise NotImplementedError\n",
    "else:\n",
    "    raise NotImplementedError\n"
   ]
  },
  {
   "cell_type": "markdown",
   "metadata": {},
   "source": [
    "> 사용자로부터 태어난 년도를 입력 받아 띠를 리턴해주는 프로그램 작성"
   ]
  },
  {
   "cell_type": "code",
   "execution_count": 18,
   "metadata": {},
   "outputs": [
    {
     "name": "stdout",
     "output_type": "stream",
     "text": [
      "돼지 띠 입니다\n"
     ]
    }
   ],
   "source": [
    "# if문 사용\n",
    "y = int(input(\"태어난 년도를 입력하시오 : \"))\n",
    "year_data = y \n",
    "\n",
    "if year_data % 12 == 0:\n",
    "    print(\"원숭이띠입니다.\")\n",
    "if year_data % 12 == 1:\n",
    "    print(\"닭띠입니다.\")\n",
    "if year_data % 12 == 2:\n",
    "    print(\"개띠입니다.\")\n",
    "if year_data % 12 == 3:\n",
    "    print(\"돼지띠입니다.\")\n",
    "if year_data % 12 == 4:\n",
    "    print(\"쥐띠입니다.\")\n",
    "if year_data % 12 == 5:\n",
    "    print(\"소띠입니다.\")\n",
    "if year_data % 12 == 6:\n",
    "    print(\"호랑이띠입니다.\")\n",
    "if year_data % 12 == 7:\n",
    "    print(\"토끼띠입니다.\")\n",
    "if year_data % 12 == 8:\n",
    "    print(\"용띠입니다.\")\n",
    "if year_data % 12 == 9:\n",
    "    print(\"뱀띠입니다.\")\n",
    "if year_data % 12 == 10:\n",
    "    print(\"말띠입니다.\")\n",
    "if year_data % 12 == 11:\n",
    "    print(\"양띠입니다.\")\n",
    "    \n",
    "# 내가 짠 코드\n",
    "rl = [0, 1, 2, 3, 4, 5, 6, 7, 8, 9, 10, 11]\n",
    "K = [\"원숭이\",  \"닭\",  \"개\", \"돼지\", \"쥐\",  \"소\" ,\"호랑이\", \"토끼\",\"용\", \"뱀\",  \"말\", \"양\"]\n",
    "\n",
    "year = int(input(\"태어난 년도를 입력해주세요:\"))\n",
    "remain = year % 12\n",
    "\n",
    "if rl[remain]:\n",
    "    print (K[remain],\"띠 입니다\")\n"
   ]
  },
  {
   "cell_type": "markdown",
   "metadata": {},
   "source": [
    "> 현재 계절을 리턴해주는 프로그램 작성\n"
   ]
  },
  {
   "cell_type": "code",
   "execution_count": 25,
   "metadata": {},
   "outputs": [
    {
     "name": "stdout",
     "output_type": "stream",
     "text": [
      "겨울 입니다.\n"
     ]
    }
   ],
   "source": [
    "import datetime\n",
    "month_now = int(datetime.datetime.now().strftime(\"%m\"))\n",
    "month_now\n",
    "\n",
    "if month_now == 11 or 12 or 1 or 2 :                    # if 11<= month_now <=12 ; 1<= month_now <= 2\n",
    "    season = \"겨울\"\n",
    "    print(f\"{season} 입니다.\")\n",
    "\n",
    "elif month_now > 8 :\n",
    "    season = \"가을\"\n",
    "    print(f\"{season} 입니다.\")\n",
    "\n",
    "elif month_now > 6 :\n",
    "     season= \"여름\"\n",
    "     print(f\"{season} 입니다.\")\n",
    "\n",
    "elif month_now > 2  :\n",
    "    season = \"봄\"\n",
    "    print(f\"{season} 입니다.\")\n",
    "\n"
   ]
  },
  {
   "cell_type": "markdown",
   "metadata": {},
   "source": [
    "> 짝수, 홀수 구분하는 프로그램 "
   ]
  },
  {
   "cell_type": "code",
   "execution_count": 29,
   "metadata": {},
   "outputs": [
    {
     "name": "stdout",
     "output_type": "stream",
     "text": [
      "짝수입니다\n"
     ]
    }
   ],
   "source": [
    "input_data = input(\"정수입력> \")\n",
    "\n",
    "#마지막 자리 숫자 추출\n",
    "\n",
    "last_char = input_data[-1]\n",
    "if \"last_char\" in \"02468\" :                             #데이터 분석시에 많이 쓰인다!\n",
    "    print(\"{} 은 짝수입니다.\".format(input_data))\n",
    "else:\n",
    "    print(\"{} 은 홀수입니다.\".format(input_data))\n",
    "\n"
   ]
  },
  {
   "cell_type": "code",
   "execution_count": null,
   "metadata": {},
   "outputs": [],
   "source": [
    "# 숫자로 변환\n",
    "number = int(last_char)\n",
    "\n",
    "if number == 0 or 2 or 4 \\\n",
    "    or 6 or 8 :                                         # 조건이 너무 길때 \\ 쓰면 다음줄로 내릴 수 있다\n",
    "    print(\"짝수입니다\") \n",
    "else :\n",
    "    print(\"홀수입니다\")"
   ]
  },
  {
   "cell_type": "code",
   "execution_count": null,
   "metadata": {},
   "outputs": [],
   "source": [
    "# % 연산자 사용\n",
    "if number % 2 == 0 :\n",
    "    print(\"{} 은 짝수입니다.\".format(input_data))\n",
    "else: \n",
    "    print(\"{} 은 홀수입니다.\".format(input_data))"
   ]
  }
 ],
 "metadata": {
  "interpreter": {
   "hash": "054c0b5073ae8ed56926c5c67113945079b283bacf1a269ae7086b3d9eebd60c"
  },
  "kernelspec": {
   "display_name": "Python 3.10.1 64-bit",
   "language": "python",
   "name": "python3"
  },
  "language_info": {
   "codemirror_mode": {
    "name": "ipython",
    "version": 3
   },
   "file_extension": ".py",
   "mimetype": "text/x-python",
   "name": "python",
   "nbconvert_exporter": "python",
   "pygments_lexer": "ipython3",
   "version": "3.10.1"
  },
  "orig_nbformat": 4
 },
 "nbformat": 4,
 "nbformat_minor": 2
}

{
 "cells": [
  {
   "cell_type": "markdown",
   "metadata": {},
   "source": [
    "### 04-1 리스트와 반복문\n",
    "---\n",
    "#### 시작하기 전에\n",
    "**리스트** 란 '목록'이며 여러가지 자료를 저장할 수 있는 자료이다. 숫자, 문자열 등의 자료를 모아서 사용하는 자료"
   ]
  },
  {
   "cell_type": "code",
   "execution_count": 1,
   "metadata": {},
   "outputs": [
    {
     "data": {
      "text/plain": [
       "273"
      ]
     },
     "execution_count": 1,
     "metadata": {},
     "output_type": "execute_result"
    }
   ],
   "source": [
    "# 리스트이름 = [요소1, 요소2, 요소3, ...]\n",
    "li = [273, 32, 0, \"문자열\", True, False]\n",
    "li[0] \n",
    "li "
   ]
  },
  {
   "cell_type": "markdown",
   "metadata": {},
   "source": [
    ">리스트 선언하고 요소(element)에 접근하기 : 리스트 인덱싱(indexing)과 슬라이싱(slicing)"
   ]
  },
  {
   "cell_type": "code",
   "execution_count": 3,
   "metadata": {},
   "outputs": [
    {
     "data": {
      "text/plain": [
       "'a'"
      ]
     },
     "execution_count": 3,
     "metadata": {},
     "output_type": "execute_result"
    }
   ],
   "source": [
    "il = [1, 2, 3, 4, 5]\n",
    "sl = [\"안\", \"녕\", \"하\", \"세\", \"요\"]\n",
    "tl = [273, 32, 103, \"문자열\", [True, False,['a','b']], \"Hello\"]\n",
    "\n",
    "# tl 리스트에서 출력하기\n",
    "tl[0]           # 273  배열\n",
    "tl[4][0]        # True 배열의 배열(2차원 배열)\n",
    "tl[4][2][0]     # 'a'  배열의 배열의 배열(3차원 배열)\n",
    "\n",
    "# 대한민국 = [[[신사동, 역삼동], 도봉구, 종로구], 인천, 대구, 부산]\n",
    "# 대한민국[0][0][][][][].... -> 집 주소까지.."
   ]
  },
  {
   "cell_type": "code",
   "execution_count": 6,
   "metadata": {},
   "outputs": [
    {
     "data": {
      "text/plain": [
       "['변경', 32, 0, '문자열', True, False]"
      ]
     },
     "execution_count": 6,
     "metadata": {},
     "output_type": "execute_result"
    }
   ],
   "source": [
    "str_data = \"Life is too short, You need Python\"\n",
    "str_data[-6]        # P\n",
    "str_data[0:3+1]     # Life\n",
    "\n",
    "li = [273, 32, 0, \"문자열\", True, False]\n",
    "\n",
    "#슬라이싱\n",
    "li[:3]              # 시작 <= 범위 < 끝\n",
    "\n",
    "# 리스트의 특정 요소 변경\n",
    "li[0] = \"변경\"\n",
    "li                # 문자열,튜플의 경우 변경 불가"
   ]
  },
  {
   "cell_type": "markdown",
   "metadata": {},
   "source": [
    "> 리스트에서의 IndexError(예외)"
   ]
  },
  {
   "cell_type": "code",
   "execution_count": 7,
   "metadata": {},
   "outputs": [
    {
     "ename": "IndexError",
     "evalue": "list index out of range",
     "output_type": "error",
     "traceback": [
      "\u001b[1;31m---------------------------------------------------------------------------\u001b[0m",
      "\u001b[1;31mIndexError\u001b[0m                                Traceback (most recent call last)",
      "\u001b[1;32m~\\AppData\\Local\\Temp/ipykernel_4676/2602104810.py\u001b[0m in \u001b[0;36m<module>\u001b[1;34m\u001b[0m\n\u001b[0;32m      1\u001b[0m \u001b[0ma\u001b[0m \u001b[1;33m=\u001b[0m \u001b[1;33m[\u001b[0m\u001b[1;36m273\u001b[0m\u001b[1;33m,\u001b[0m \u001b[1;36m32\u001b[0m\u001b[1;33m,\u001b[0m \u001b[1;36m103\u001b[0m\u001b[1;33m]\u001b[0m\u001b[1;33m\u001b[0m\u001b[1;33m\u001b[0m\u001b[0m\n\u001b[1;32m----> 2\u001b[1;33m \u001b[0ma\u001b[0m\u001b[1;33m[\u001b[0m\u001b[1;36m3\u001b[0m\u001b[1;33m]\u001b[0m\u001b[1;33m\u001b[0m\u001b[1;33m\u001b[0m\u001b[0m\n\u001b[0m",
      "\u001b[1;31mIndexError\u001b[0m: list index out of range"
     ]
    }
   ],
   "source": [
    "# 현업에서 리스트 인자에 변수가 들어왔을 경우 확인하기가 힘들다\n",
    "\n",
    "a = [273, 32, 103]\n",
    "a[0]                     \n",
    "a[3]                # a[2] 까지 존재          \n"
   ]
  },
  {
   "cell_type": "markdown",
   "metadata": {},
   "source": [
    "> 리스트 연산자 : + , *, len()"
   ]
  },
  {
   "cell_type": "code",
   "execution_count": 9,
   "metadata": {},
   "outputs": [
    {
     "name": "stdout",
     "output_type": "stream",
     "text": [
      "[1, 2, 3, 4, 5, 6]\n",
      "[1, 2, 3, 1, 2, 3, 1, 2, 3]\n"
     ]
    }
   ],
   "source": [
    "a = [1, 2, 3] \n",
    "b = [4, 5, 6]\n",
    "c = a + b\n",
    "print(c)\n",
    "\n",
    "d = a * 3\n",
    "print(d)\n",
    "print(len(d))\n"
   ]
  },
  {
   "cell_type": "markdown",
   "metadata": {},
   "source": [
    "> 리스트에 요소 추가하기 : append, insert, extend"
   ]
  },
  {
   "cell_type": "code",
   "execution_count": 17,
   "metadata": {},
   "outputs": [
    {
     "name": "stdout",
     "output_type": "stream",
     "text": [
      "[1, 2, 3, 4, 5]\n",
      "[3, 4, 5, 6, 7, 8, 9, 10, 11, 12, 13, 14, 15, 16, 17, 18, 19, 20, 21, 22, 23, 24, 25, 26, 27, 28, 29, 30, 31, 32]\n",
      "[3, 4, 5, 6, 7, 'a', 8, 9, 10, 11, 12, 13, 14, 15, 16, 17, 18, 19, 20, 21, 22, 23, 24, 25, 26, 27, 28, 29, 30, 31, 32]\n",
      "['a', 'b', 'c', 'e', 'f', 'g']\n",
      "['a', 'b', 'c', 'e', 'f', 'g', 'h', 'i']\n"
     ]
    }
   ],
   "source": [
    "# 리스트.append(요소)       : 리스트 맨 뒤에 요소가 추가 \n",
    "# 리스트.insert(위치, 요소) : 리스트의 지정위치에 요소를 추가\n",
    "\n",
    "data = [1, 2, 3]\n",
    "\n",
    "data.append(4)\n",
    "data.append(5)\n",
    "print(data)\n",
    "\n",
    "data = []\n",
    "# 0~ 29\n",
    "for i in range(30):\n",
    "    data.append(i+3)\n",
    "print(data)\n",
    "\n",
    "data.insert(5 , 'a')        #인덱스 5 위치 뒤에 a 삽입\n",
    "print(data)                 \n",
    "\n",
    "# 리스트.extend(리스트) : 해당 리스트를 확장\n",
    "li_a = ['a', 'b', 'c']\n",
    "li_b = ['e', 'f', 'g']\n",
    "li_c = li_a + li_b\n",
    "print(li_c)\n",
    "\n",
    "li_c.extend(['h','i'])      # 하나씩 넣는 append와 다르게 한꺼번에 넣을 수 있다.\n",
    "print(li_c) "
   ]
  },
  {
   "cell_type": "code",
   "execution_count": 3,
   "metadata": {},
   "outputs": [
    {
     "name": "stdout",
     "output_type": "stream",
     "text": [
      "[[1, 2], [11, 12], [21, 22]]\n",
      "[[1, 2], [11, 12], [21, 22], [100, 200]]\n",
      "[[1, 2], [11, 12], [21, 22], [100, 200], 300, 400]\n"
     ]
    }
   ],
   "source": [
    "# append 와 extend의 차이점\n",
    "\n",
    "matrix = [\n",
    "    [1,2], \n",
    "    [11,12], \n",
    "    [21,22]] \n",
    "print(matrix)\n",
    "\n",
    "matrix_a = [1, 2]\n",
    "matrix_b = [11, 12]\n",
    "\n",
    "matrix.append([100 , 200])              # append : [100, 200] 원소로 리스트에 추가됨\n",
    "print(matrix)\n",
    "\n",
    "matrix.extend([300, 400])               # extend : 300, 400 이 따로 리스트에 추가됨\n",
    "print(matrix)"
   ]
  },
  {
   "cell_type": "markdown",
   "metadata": {},
   "source": [
    "> 리스트에 요소 제거하기 : 인덱스로 제거, 값으로 제거"
   ]
  },
  {
   "cell_type": "code",
   "execution_count": 21,
   "metadata": {},
   "outputs": [
    {
     "name": "stdout",
     "output_type": "stream",
     "text": [
      "['a', 'c', 'd', 'e', 'f']\n",
      "['d', 'e', 'f']\n",
      "삭제요소: f\n",
      "['d', 'e']\n",
      "삭제요소: e\n",
      "['d']\n"
     ]
    }
   ],
   "source": [
    "# 1. 인덱스 사용 \n",
    "li = ['a', 'b', 'c', 'd', 'e', 'f']\n",
    "\n",
    "# 1. del()\n",
    "# del li\n",
    "# li\n",
    "del li[1]\n",
    "print(li)\n",
    "\n",
    "del li[:2]\n",
    "print(li)\n",
    "\n",
    "# 2. 리스트.pop(인덱스)\n",
    "print(\"삭제요소:\", li.pop(2))\n",
    "print(li)\n",
    "print(\"삭제요소:\", li.pop())            #pop()일 경우 맨끝값 제거\n",
    "print(li)          "
   ]
  },
  {
   "cell_type": "code",
   "execution_count": 23,
   "metadata": {},
   "outputs": [
    {
     "name": "stdout",
     "output_type": "stream",
     "text": [
      "[1, 2, 1, 2]\n",
      "[1, 1, 2]\n"
     ]
    }
   ],
   "source": [
    "# 값으로 제거\n",
    "\n",
    "# 리스트.remove(값)\n",
    "li = [1, 2, 1, 2]\n",
    "print(li)\n",
    "\n",
    "li.remove(2)        # 리스트 내부에 해당하는 값이 여러개 있어도 가장 먼저 발견되는 하나만 제거\n",
    "print(li)\n"
   ]
  },
  {
   "cell_type": "code",
   "execution_count": 24,
   "metadata": {},
   "outputs": [
    {
     "name": "stdout",
     "output_type": "stream",
     "text": [
      "[0, 1, 2, 3, 4, 5]\n",
      "[1, 2, 3, 4, 5]\n",
      "[]\n"
     ]
    }
   ],
   "source": [
    "# 모두 제거 : clear()   \n",
    "\n",
    "li = [0,1,2,3,4,5]\n",
    "print(li)\n",
    "\n",
    "li.remove(0)\n",
    "print(li)\n",
    "\n",
    "li.clear()\n",
    "print(li)       # 다 비우기 "
   ]
  },
  {
   "cell_type": "markdown",
   "metadata": {},
   "source": [
    "> 리스트 내부에 있는지 없는지 확인하기 : in / not in 연산자"
   ]
  },
  {
   "cell_type": "code",
   "execution_count": 32,
   "metadata": {},
   "outputs": [
    {
     "name": "stdout",
     "output_type": "stream",
     "text": [
      "True\n",
      "False\n",
      "True\n",
      "[273, 32, 103, 57, 99]\n"
     ]
    }
   ],
   "source": [
    "print('c' in \"abcdefg\")\n",
    "\n",
    "list_n = [273, 32, 103, 57]\n",
    "\n",
    "print(0 in list_n)\n",
    "\n",
    "print(99 not in list_n)\n",
    "\n",
    "val = 99\n",
    "if val not in list_n :          # 99 들어있지 않으면 99를 추가\n",
    "    list_n.append(val)\n",
    "\n",
    "print(list_n) "
   ]
  },
  {
   "cell_type": "markdown",
   "metadata": {},
   "source": [
    "> for 반복문(looping)"
   ]
  },
  {
   "cell_type": "code",
   "execution_count": 4,
   "metadata": {},
   "outputs": [
    {
     "name": "stdout",
     "output_type": "stream",
     "text": [
      "0 Hello World\n",
      "1 Hello World\n",
      "2 Hello World\n",
      "3 Hello World\n",
      "4 Hello World\n",
      "5 Hello World\n",
      "6 Hello World\n",
      "7 Hello World\n",
      "8 Hello World\n",
      "9 Hello World\n"
     ]
    }
   ],
   "source": [
    "# for(int i=0; i<10 ; i++){\n",
    "#             System.out.println( i + \" for\");\n",
    "# }\n",
    "\n",
    "for i in range(10):\n",
    "    print(i, \"Hello World\") \n",
    "    "
   ]
  },
  {
   "cell_type": "code",
   "execution_count": 6,
   "metadata": {},
   "outputs": [
    {
     "name": "stdout",
     "output_type": "stream",
     "text": [
      "90 85 70 55 95 60 75 L, i, f, e,  , i, s,  , s, h, o, r, t, ,,  , Y, o, u,  , n, e, e, d,  , P, y, t, h, o, n, "
     ]
    }
   ],
   "source": [
    "# for 반복자 in 반복할 수 있는 객체 :\n",
    "#            실행코드\n",
    "\n",
    "records = [90, 85, 70, 55, 95, 60, 75]\n",
    "\n",
    "for score in records :      \n",
    "    print(score, end= ' ')\n",
    "\n",
    "for s in \"Life is short, You need Python\":\n",
    "    print(s, end=', ')\n",
    "\n",
    "# 1 ~ 10 까지의 자연수 총합 구하기\n",
    "natural_numbers = [1, 2, 3, 4, 5, 6, 7, 8, 9, 10]\n",
    "total = 0\n",
    "for num in natural_numbers:\n",
    "    total += num\n",
    "\n",
    "print()\n",
    "print(\"자연수(1~10총합: \", total)"
   ]
  },
  {
   "cell_type": "markdown",
   "metadata": {},
   "source": [
    "> 아래의 성적 레코드의 최고, 최저, 총점, 평균을 구하는 프로그램 작성(단, 내장함수 사용금지!) : record.py"
   ]
  },
  {
   "cell_type": "code",
   "execution_count": 15,
   "metadata": {},
   "outputs": [
    {
     "name": "stdout",
     "output_type": "stream",
     "text": [
      "21\n",
      "80\n"
     ]
    }
   ],
   "source": [
    "records = [90, 85, 70, 55, 95, 60, 80, 90, 85, 70, 55, 95, 60, 80, 90, 85, 70, 55, 95, 60, 80]\n",
    "print(len(records))\n",
    "\n",
    "#최고성적\n",
    "high = None\n",
    "low = None\n",
    "sum = None\n",
    "avg = None\n",
    "# for i in range(0,len(records)-1) :            # 잘못 생각함\n",
    "#     if records[i+1] > records[i]:\n",
    "#         high = (records[i+1])\n",
    "#     else:\n",
    "#         high = records[i]   \n",
    "\n",
    "high = 0\n",
    "low = 100\n",
    "total_score = 0\n",
    "for score in records:\n",
    "    if high < score:\n",
    "        high = score\n",
    "    if low  > score:\n",
    "        low = score\n",
    "    total_score += score\n",
    "    \n",
    "print(\"점수 목록: \", records)\n",
    "print(f\"최고:{high}, 최저:{low}, 총점:{total_score}, 평균:{total_score/len(records) : 0.2f}\")\n",
    "\n",
    "    \n",
    "    \n",
    "\n"
   ]
  },
  {
   "cell_type": "markdown",
   "metadata": {},
   "source": [
    "> 아래와 같이 실행 결과가 나오는 프로그램 작성 : digit.py"
   ]
  },
  {
   "cell_type": "code",
   "execution_count": 5,
   "metadata": {},
   "outputs": [
    {
     "ename": "TypeError",
     "evalue": "'list' object cannot be interpreted as an integer",
     "output_type": "error",
     "traceback": [
      "\u001b[1;31m---------------------------------------------------------------------------\u001b[0m",
      "\u001b[1;31mTypeError\u001b[0m                                 Traceback (most recent call last)",
      "\u001b[1;32m~\\AppData\\Local\\Temp/ipykernel_644/1529456915.py\u001b[0m in \u001b[0;36m<module>\u001b[1;34m\u001b[0m\n\u001b[0;32m      6\u001b[0m \u001b[1;31m#   5 은(는)  1 자릿수 입니다.\u001b[0m\u001b[1;33m\u001b[0m\u001b[1;33m\u001b[0m\u001b[0m\n\u001b[0;32m      7\u001b[0m \u001b[1;33m\u001b[0m\u001b[0m\n\u001b[1;32m----> 8\u001b[1;33m \u001b[1;32mfor\u001b[0m \u001b[0ms\u001b[0m \u001b[1;32min\u001b[0m \u001b[0mrange\u001b[0m\u001b[1;33m(\u001b[0m\u001b[0mnumbers\u001b[0m\u001b[1;33m)\u001b[0m\u001b[1;33m:\u001b[0m\u001b[1;33m\u001b[0m\u001b[1;33m\u001b[0m\u001b[0m\n\u001b[0m\u001b[0;32m      9\u001b[0m     \u001b[0mnum\u001b[0m \u001b[1;33m=\u001b[0m \u001b[0mnumbers\u001b[0m\u001b[1;33m[\u001b[0m\u001b[0ms\u001b[0m\u001b[1;33m]\u001b[0m\u001b[1;33m\u001b[0m\u001b[1;33m\u001b[0m\u001b[0m\n\u001b[0;32m     10\u001b[0m     \u001b[0mlen\u001b[0m \u001b[1;33m=\u001b[0m \u001b[0mlen\u001b[0m\u001b[1;33m(\u001b[0m\u001b[0mnumbers\u001b[0m\u001b[1;33m[\u001b[0m\u001b[0ms\u001b[0m\u001b[1;33m]\u001b[0m\u001b[1;33m)\u001b[0m\u001b[1;33m\u001b[0m\u001b[1;33m\u001b[0m\u001b[0m\n",
      "\u001b[1;31mTypeError\u001b[0m: 'list' object cannot be interpreted as an integer"
     ]
    }
   ],
   "source": [
    "numbers = [273, 103, 5, 32, 65, 9, 72, 800, 9999]\n",
    "\n",
    "# 실행결과\n",
    "# 273 은(는)  3 자릿수 입니다.\n",
    "# 103 은(는)  3 자릿수 입니다.\n",
    "#   5 은(는)  1 자릿수 입니다.\n",
    "\n",
    "for s in range(numbers):\n",
    "    num = numbers[s]\n",
    "    len = len(numbers[s])\n",
    "    print(\"{} 은(는) {} 자릿수 입니다.\".format(num, len))\n",
    "\n",
    "#변수가 겹쳐 digit.ipynb에 다시 작성\n",
    "\n"
   ]
  }
 ],
 "metadata": {
  "interpreter": {
   "hash": "054c0b5073ae8ed56926c5c67113945079b283bacf1a269ae7086b3d9eebd60c"
  },
  "kernelspec": {
   "display_name": "Python 3.10.1 64-bit",
   "language": "python",
   "name": "python3"
  },
  "language_info": {
   "codemirror_mode": {
    "name": "ipython",
    "version": 3
   },
   "file_extension": ".py",
   "mimetype": "text/x-python",
   "name": "python",
   "nbconvert_exporter": "python",
   "pygments_lexer": "ipython3",
   "version": "3.10.1"
  },
  "orig_nbformat": 4
 },
 "nbformat": 4,
 "nbformat_minor": 2
}

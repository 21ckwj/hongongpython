{
 "cells": [
  {
   "cell_type": "code",
   "execution_count": 1,
   "metadata": {},
   "outputs": [
    {
     "name": "stdout",
     "output_type": "stream",
     "text": [
      "273 은(는) 3 자릿수 입니다.\n",
      "103 은(는) 3 자릿수 입니다.\n",
      "5 은(는) 1 자릿수 입니다.\n",
      "32 은(는) 2 자릿수 입니다.\n",
      "65 은(는) 2 자릿수 입니다.\n",
      "9 은(는) 1 자릿수 입니다.\n",
      "72 은(는) 2 자릿수 입니다.\n",
      "800 은(는) 3 자릿수 입니다.\n",
      "9999 은(는) 4 자릿수 입니다.\n"
     ]
    }
   ],
   "source": [
    "numbers = [273, 103, 5, 32, 65, 9, 72, 800, 9999]\n",
    "\n",
    "# 실행결과\n",
    "# 273 은(는)  3 자릿수 입니다.\n",
    "# 103 은(는)  3 자릿수 입니다.\n",
    "#   5 은(는)  1 자릿수 입니다.\n",
    "\n",
    "for num in numbers : \n",
    "    digits = len(str(num))\n",
    "    print(f\"{num} 은(는) {digits} 자릿수 입니다.\")\n",
    "\n",
    "# 숫자형은 자릿수를 구할 수 없다 str()로 문자열로 바꿔야 자릿수를 구할 수 있다."
   ]
  }
 ],
 "metadata": {
  "interpreter": {
   "hash": "dc8f76e70a020781c3d9570dcc216c8634a08ba84b5db65cc3b0707bc1885291"
  },
  "kernelspec": {
   "display_name": "Python 3.10.1 64-bit",
   "language": "python",
   "name": "python3"
  },
  "language_info": {
   "codemirror_mode": {
    "name": "ipython",
    "version": 3
   },
   "file_extension": ".py",
   "mimetype": "text/x-python",
   "name": "python",
   "nbconvert_exporter": "python",
   "pygments_lexer": "ipython3",
   "version": "3.10.1"
  },
  "orig_nbformat": 4
 },
 "nbformat": 4,
 "nbformat_minor": 2
}

{
 "cells": [
  {
   "cell_type": "markdown",
   "metadata": {},
   "source": [
    "#### 04-4 문자열, 리스트, 딕셔너리 관련된 기본 함수\n",
    "---\n",
    "***파이썬스런*** 고유 기능 살펴보기 : enumerate() 리스트 내포(list comprehension)"
   ]
  },
  {
   "cell_type": "markdown",
   "metadata": {},
   "source": [
    "> 리스트에 적용할 수 있는 기본함수 : min(), max(), sum()"
   ]
  },
  {
   "cell_type": "code",
   "execution_count": 8,
   "metadata": {},
   "outputs": [
    {
     "name": "stdout",
     "output_type": "stream",
     "text": [
      "최고점:  98\n",
      "최저점:  56\n",
      "총  점:  400\n",
      "평  균:  80.0\n",
      "[56, 63, 87, 96, 98]\n",
      "최고점:  98\n",
      "최저점:  56\n"
     ]
    }
   ],
   "source": [
    "# 1~10 까지의 합\n",
    "li = list(range(1,10+1))\n",
    "sum(li)                      # for문 쓸 필요없이 바로 리스트 원소의 합 구할 수 있다\n",
    "\n",
    "score = [96, 87, 98, 63, 56]\n",
    "print(\"최고점: \", max(score))\n",
    "print(\"최저점: \", min(score))\n",
    "print(\"총  점: \", sum(score))\n",
    "print(\"평  균: \", sum(score)/len(score))\n",
    "\n",
    "score.sort()                 # 오름차순 정렬\n",
    "print(score)\n",
    "print(\"최고점: \",score[-1])\n",
    "print(\"최저점: \",score[0])                "
   ]
  },
  {
   "cell_type": "markdown",
   "metadata": {},
   "source": [
    "> reversed() : 리스트 뒤집기"
   ]
  },
  {
   "cell_type": "code",
   "execution_count": 17,
   "metadata": {},
   "outputs": [
    {
     "name": "stdout",
     "output_type": "stream",
     "text": [
      "<list_reverseiterator object at 0x0000019015555930>\n",
      "[1, 2, 3, 4, 5]\n",
      "5\n",
      "4\n",
      "3\n",
      "2\n",
      "1\n"
     ]
    }
   ],
   "source": [
    "list_a = list(range(1,5+1))\n",
    "list_reversed = reversed(list_a)\n",
    "# list_a.reverse()\n",
    "\n",
    "print(list_reversed)\n",
    "print(list_a)\n",
    "\n",
    "# 반복문 적용\n",
    "\n",
    "for i in list_reversed:\n",
    "    print(i)"
   ]
  },
  {
   "cell_type": "markdown",
   "metadata": {},
   "source": [
    "> 확장(step) 슬라이싱으로 리스트 뒤집기"
   ]
  },
  {
   "cell_type": "code",
   "execution_count": 18,
   "metadata": {},
   "outputs": [
    {
     "data": {
      "text/plain": [
       "[5, 4, 3, 2, 1]"
      ]
     },
     "execution_count": 18,
     "metadata": {},
     "output_type": "execute_result"
    }
   ],
   "source": [
    "numbers = [1 ,2, 3, 4, 5]\n",
    "numbers[-1 : 0 : -1]    # [5,4,3,2] 1 출력 안됨\n",
    "numbers[-1::-1]         # 정상출력"
   ]
  },
  {
   "cell_type": "markdown",
   "metadata": {},
   "source": [
    "> 이터레이터(iterator)"
   ]
  },
  {
   "cell_type": "code",
   "execution_count": 27,
   "metadata": {},
   "outputs": [
    {
     "name": "stdout",
     "output_type": "stream",
     "text": [
      "a b c d e f \n",
      "97 0x61 0b1100001 98 0x62 0b1100010 99 0x63 0b1100011 100 0x64 0b1100100 101 0x65 0b1100101 102 0x66 0b1100110 <class 'list_iterator'>\n",
      "1\n",
      "2\n",
      "3\n"
     ]
    },
    {
     "ename": "StopIteration",
     "evalue": "",
     "output_type": "error",
     "traceback": [
      "\u001b[1;31m---------------------------------------------------------------------------\u001b[0m",
      "\u001b[1;31mStopIteration\u001b[0m                             Traceback (most recent call last)",
      "\u001b[1;32m~\\AppData\\Local\\Temp/ipykernel_6756/1283879240.py\u001b[0m in \u001b[0;36m<module>\u001b[1;34m\u001b[0m\n\u001b[0;32m     24\u001b[0m \u001b[0mprint\u001b[0m\u001b[1;33m(\u001b[0m\u001b[0mnext\u001b[0m\u001b[1;33m(\u001b[0m\u001b[0mli_it\u001b[0m\u001b[1;33m)\u001b[0m\u001b[1;33m)\u001b[0m\u001b[1;33m\u001b[0m\u001b[1;33m\u001b[0m\u001b[0m\n\u001b[0;32m     25\u001b[0m \u001b[0mprint\u001b[0m\u001b[1;33m(\u001b[0m\u001b[0mnext\u001b[0m\u001b[1;33m(\u001b[0m\u001b[0mli_it\u001b[0m\u001b[1;33m)\u001b[0m\u001b[1;33m)\u001b[0m\u001b[1;33m\u001b[0m\u001b[1;33m\u001b[0m\u001b[0m\n\u001b[1;32m---> 26\u001b[1;33m \u001b[0mprint\u001b[0m\u001b[1;33m(\u001b[0m\u001b[0mnext\u001b[0m\u001b[1;33m(\u001b[0m\u001b[0mli_it\u001b[0m\u001b[1;33m)\u001b[0m\u001b[1;33m)\u001b[0m \u001b[1;31m# Stopiteration\u001b[0m\u001b[1;33m\u001b[0m\u001b[1;33m\u001b[0m\u001b[0m\n\u001b[0m",
      "\u001b[1;31mStopIteration\u001b[0m: "
     ]
    }
   ],
   "source": [
    "# 배열은 같은 자료형만 가능 why? C 포인터개념: 메모리의 시작점을 정함 첫번쨰 주소를 알면 int 4 byte씩 앞으로 가면 읽을 수 있다\n",
    "# 리스트 튜플은 다른 자료형도 넣는다\n",
    "\n",
    "# iterable 객체 : 반복 가능한 객체('str', 'list', 'dic', 'tuple', 'range', 'enumerate' ..)\n",
    "\n",
    "for i in 'abcdef' :\n",
    "    print(i, end=' ')\n",
    "print()\n",
    "for i in b'abcdef':\n",
    "    print(i, end=' ')\n",
    "    print(hex(i), end=' ')\n",
    "    print(bin(i), end=' ')\n",
    "\n",
    "# Iterator 객체 : 값을 차례대로 꺼낼 수 있는 객체\n",
    "\n",
    "li = [1, 2, 3]\n",
    "# dir(li) __iter__ 있으면 반복가능\n",
    "#__iter__ \n",
    "li_it = iter(li)\n",
    "print(type(li_it))\n",
    "\n",
    "# next() 내장함수로 차례대로 값을 꺼내기\n",
    "print(next(li_it))\n",
    "print(next(li_it))\n",
    "print(next(li_it))\n",
    "print(next(li_it)) # Stopiteration\n",
    "\n",
    "#        [0...~99] 인 리스트를 생성하는게 아님(메모리 차지x) next를 통해 계속 접근\n",
    "for i in range(100):\n"
   ]
  },
  {
   "cell_type": "markdown",
   "metadata": {},
   "source": [
    "> enumerate() 함수와 반복문 조합하기"
   ]
  },
  {
   "cell_type": "code",
   "execution_count": 32,
   "metadata": {},
   "outputs": [
    {
     "name": "stdout",
     "output_type": "stream",
     "text": [
      "enumerated['a', 'b', 'c', 'd'] = <enumerate object at 0x000001901557BB80>\n",
      "enumerated['a', 'b', 'c', 'd'] = [(0, 'a'), (1, 'b'), (2, 'c'), (3, 'd')]\n",
      "0 = a\n",
      "1 = b\n",
      "2 = c\n",
      "3 = d\n"
     ]
    }
   ],
   "source": [
    "# enum : 열거형 상수\n",
    "# 부서코드 : 관리부(012)... \n",
    "\n",
    "li_alpha = ['a', 'b', 'c', 'd']\n",
    "enum_li = enumerate(li_alpha)\n",
    "print(\"enumerated{} = {}\".format(li_alpha, enum_li))\n",
    "print(\"enumerated{} = {}\".format(li_alpha, list(enum_li)))\n",
    "\n",
    "for i,e in enumerate(li_alpha) :\n",
    "    print(i, \"=\", e)"
   ]
  },
  {
   "cell_type": "markdown",
   "metadata": {},
   "source": [
    "> 딕셔너리의 items() 함수와 반복문 조합하기"
   ]
  },
  {
   "cell_type": "code",
   "execution_count": 35,
   "metadata": {},
   "outputs": [
    {
     "name": "stdout",
     "output_type": "stream",
     "text": [
      "A+\n",
      "A\n",
      "B+\n",
      "B\n",
      "D\n",
      "dict_items([('A+', 95), ('A', 90), ('B+', 85), ('B', 80), ('D', 60)])\n",
      "키:A+, 값:95\n",
      "키:A, 값:90\n",
      "키:B+, 값:85\n",
      "키:B, 값:80\n",
      "키:D, 값:60\n"
     ]
    }
   ],
   "source": [
    "di = {\"A+\":95, \"A\":90, \"B+\":85, \"B\":80, \"D\":60}\n",
    "for e in di:\n",
    "    print(e)   # Key 만 찍힘\n",
    "\n",
    "print(di.items())\n",
    "for k,v in di.items():\n",
    "    print(\"키:{}, 값:{}\".format(k,v))"
   ]
  },
  {
   "cell_type": "markdown",
   "metadata": {},
   "source": [
    "> 리스트 내포(List comprehension)"
   ]
  },
  {
   "cell_type": "code",
   "execution_count": 47,
   "metadata": {},
   "outputs": [
    {
     "name": "stdout",
     "output_type": "stream",
     "text": [
      "li_1 = [0, 1, 2, 3, 4, 5, 6, 7, 8, 9]\n",
      "li_2 = [0, 1, 2, 3, 4, 5, 6, 7, 8, 9]\n",
      "li_3 = [0, 100, 200, 300, 400, 500, 600, 700, 800, 900]\n",
      "li_4 = [1, 1, 4, 27, 256, 3125, 46656, 823543, 16777216, 387420489]\n",
      "li_5 = [1, 1, 4, 27, 256, 3125, 46656, 823543, 16777216, 387420489]\n",
      "li_6 = [0, 2, 4, 6, 8]\n",
      "li_7 = [0, 2, 4, 6, 8]\n"
     ]
    }
   ],
   "source": [
    "# [] 리스트 안에 식 for 반복문, if 조건문 등을 지정하여 리스트르 생성하는 것\n",
    "# [ 식 for 변수 in 반복자료형 if 조건식]\n",
    "# list(식 for 변수 in 반복자료형 if 조건식)\n",
    "\n",
    "li_1 = list(range(10))\n",
    "print(\"li_1 =\", li_1)\n",
    "\n",
    "li_2 = [i for i in range(10)]\n",
    "print(\"li_2 =\", li_2)\n",
    "\n",
    "li_3 = [i* 100 for i in range(10)]\n",
    "print(\"li_3 =\", li_3)\n",
    "\n",
    "li_4 = [i**i for i in range(10)]\n",
    "print(\"li_4 =\", li_4 )\n",
    "\n",
    "li_5 = []\n",
    "for i in range(10):\n",
    "    li_5.append(i**i)\n",
    "print(\"li_5 =\",li_5)\n",
    "\n",
    "li_6 = []\n",
    "for i in range(10):\n",
    "    if i % 2 == 0:\n",
    "        li_6.append(i)\n",
    "print(\"li_6 =\", li_6)\n",
    "\n",
    "# 주석 : 설명 \n",
    "li_7 = [i for i in range(10) if i % 2 == 0]     # list comprehsion으로 짝수 출력\n",
    "print(\"li_7 =\", li_7)"
   ]
  },
  {
   "cell_type": "code",
   "execution_count": 52,
   "metadata": {},
   "outputs": [
    {
     "name": "stdout",
     "output_type": "stream",
     "text": [
      "['이승만', '박정희', '김영삼', '김대중', '이명박', '박근혜'] "
     ]
    }
   ],
   "source": [
    "# 성이 '김','이','박' 인 대통령을 추출하여 리스트를 생성하세요. output이라는 리스트에 list comprehension을 사용해서 나타내세요.\n",
    "\n",
    "presidents = [\"이승만\", \"박정희\", \"전두환\", \"최규화\", \"노태우\", \"김영삼\", \"김대중\", \"노무현\", \"이명박\", \"박근혜\", \"문재인\"]\n",
    "# 오류남 output = [i for i in range(len(presidents)) if i[0] == \"김\" ,\"이\", \"박\"] 왜 안되지\n",
    "\n",
    "output = [name for name in presidents if name[0] in '김이박']\n",
    "print(output, end=' ')"
   ]
  },
  {
   "cell_type": "markdown",
   "metadata": {},
   "source": [
    "> 구구단 출력 프로그램 작성"
   ]
  },
  {
   "cell_type": "code",
   "execution_count": 59,
   "metadata": {},
   "outputs": [
    {
     "name": "stdout",
     "output_type": "stream",
     "text": [
      "2 * 1 = 02  2 * 2 = 04  2 * 3 = 06  2 * 4 = 08  2 * 5 = 10  2 * 6 = 12  2 * 7 = 14  2 * 8 = 16  2 * 9 = 18  \n",
      "3 * 1 = 03  3 * 2 = 06  3 * 3 = 09  3 * 4 = 12  3 * 5 = 15  3 * 6 = 18  3 * 7 = 21  3 * 8 = 24  3 * 9 = 27  \n",
      "4 * 1 = 04  4 * 2 = 08  4 * 3 = 12  4 * 4 = 16  4 * 5 = 20  4 * 6 = 24  4 * 7 = 28  4 * 8 = 32  4 * 9 = 36  \n",
      "5 * 1 = 05  5 * 2 = 10  5 * 3 = 15  5 * 4 = 20  5 * 5 = 25  5 * 6 = 30  5 * 7 = 35  5 * 8 = 40  5 * 9 = 45  \n",
      "6 * 1 = 06  6 * 2 = 12  6 * 3 = 18  6 * 4 = 24  6 * 5 = 30  6 * 6 = 36  6 * 7 = 42  6 * 8 = 48  6 * 9 = 54  \n",
      "7 * 1 = 07  7 * 2 = 14  7 * 3 = 21  7 * 4 = 28  7 * 5 = 35  7 * 6 = 42  7 * 7 = 49  7 * 8 = 56  7 * 9 = 63  \n",
      "8 * 1 = 08  8 * 2 = 16  8 * 3 = 24  8 * 4 = 32  8 * 5 = 40  8 * 6 = 48  8 * 7 = 56  8 * 8 = 64  8 * 9 = 72  \n",
      "9 * 1 = 09  9 * 2 = 18  9 * 3 = 27  9 * 4 = 36  9 * 5 = 45  9 * 6 = 54  9 * 7 = 63  9 * 8 = 72  9 * 9 = 81  \n",
      "\n",
      "multi_list = [2, 4, 6, 8, 10, 12, 14, 16, 18, 3, 6, 9, 12, 15, 18, 21, 24, 27, 4, 8, 12, 16, 20, 24, 28, 32, 36, 5, 10, 15, 20, 25, 30, 35, 40, 45, 6, 12, 18, 24, 30, 36, 42, 48, 54, 7, 14, 21, 28, 35, 42, 49, 56, 63, 8, 16, 24, 32, 40, 48, 56, 64, 72, 9, 18, 27, 36, 45, 54, 63, 72, 81]\n",
      "multi_list2= [2, 4, 6, 8, 10, 12, 14, 16, 18, 3, 6, 9, 12, 15, 18, 21, 24, 27, 4, 8, 12, 16, 20, 24, 28, 32, 36, 5, 10, 15, 20, 25, 30, 35, 40, 45, 6, 12, 18, 24, 30, 36, 42, 48, 54, 7, 14, 21, 28, 35, 42, 49, 56, 63, 8, 16, 24, 32, 40, 48, 56, 64, 72, 9, 18, 27, 36, 45, 54, 63, 72, 81]\n"
     ]
    }
   ],
   "source": [
    "multi_list = []\n",
    "for i in range(2,9+1):\n",
    "    for j in range(1,9+1):\n",
    "        k = i*j\n",
    "        print(\"{} * {} = {:02} \".format(i, j, k), end= ' ')\n",
    "        multi_list.append(k)\n",
    "    print()\n",
    "print()\n",
    "print(\"multi_list =\", multi_list)\n",
    "\n",
    "\n",
    "# list comprehesion을 사용하여 구구단 결과 리스트를 작성하시오.\n",
    "\n",
    "multi_list2 = [ i*j for i in range(2,9+1) for j in range(1,9+1)]\n",
    "print(\"multi_list2=\", multi_list2)"
   ]
  },
  {
   "cell_type": "markdown",
   "metadata": {},
   "source": [
    "> 문자열 join() 함수"
   ]
  },
  {
   "cell_type": "code",
   "execution_count": 64,
   "metadata": {},
   "outputs": [
    {
     "data": {
      "text/plain": [
       "'C:\\\\Program Files\\\\Git\\\\tmp'"
      ]
     },
     "execution_count": 64,
     "metadata": {},
     "output_type": "execute_result"
    }
   ],
   "source": [
    "# 문자열.join(문자열로 구성된 리스트)\n",
    "\n",
    "phone = ['010', '1234', '5678']\n",
    "'-'.join(phone)\n",
    "path = '\\\\'.join([\"C:\", \"Program Files\", \"Git\", \"tmp\"])\n",
    "path"
   ]
  },
  {
   "cell_type": "code",
   "execution_count": null,
   "metadata": {},
   "outputs": [],
   "source": []
  }
 ],
 "metadata": {
  "interpreter": {
   "hash": "054c0b5073ae8ed56926c5c67113945079b283bacf1a269ae7086b3d9eebd60c"
  },
  "kernelspec": {
   "display_name": "Python 3.10.1 64-bit",
   "language": "python",
   "name": "python3"
  },
  "language_info": {
   "codemirror_mode": {
    "name": "ipython",
    "version": 3
   },
   "file_extension": ".py",
   "mimetype": "text/x-python",
   "name": "python",
   "nbconvert_exporter": "python",
   "pygments_lexer": "ipython3",
   "version": "3.10.1"
  },
  "orig_nbformat": 4
 },
 "nbformat": 4,
 "nbformat_minor": 2
}

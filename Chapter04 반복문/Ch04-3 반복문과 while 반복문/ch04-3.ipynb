{
 "cells": [
  {
   "cell_type": "markdown",
   "metadata": {},
   "source": [
    "### 04-3 range와 while 반복문\n",
    "---\n",
    "#### 시작하기 전에\n",
    "***range***는 반복문과 함께 많이 사용되는 자료형 . 특정한 횟수 만큼 반복해서 실행하고자 할 때 사용"
   ]
  },
  {
   "cell_type": "markdown",
   "metadata": {},
   "source": [
    ">범위"
   ]
  },
  {
   "cell_type": "code",
   "execution_count": 3,
   "metadata": {},
   "outputs": [
    {
     "name": "stdout",
     "output_type": "stream",
     "text": [
      "r: range(0, 10) 타입:  <class 'range'>\n",
      "0, 2, 4, "
     ]
    }
   ],
   "source": [
    "# 범위(range) 자료형 선언(생성)\n",
    "r = range(10) \n",
    "print(\"r:\", r,\"타입: \",type(r))\n",
    "\n",
    "r1 = range(5)       # 0~5 : 0 1 2 3 4\n",
    "r2 = range(0,5)     # 0~5 : 0 1 2 3 4\n",
    "r3 = range(0,5,1)   # 0~5 : 0 1 2 3 4\n",
    "\n",
    "r4 = range(0, 5, 2)\n",
    "for i in r4:\n",
    "    print(i, end= \", \")\n",
    "\n",
    "#range(stop) -> range object range(start, stop[, step]) -> range object\n",
    "# Return an object that produces a sequence of integers from start (inclusive) to stop (exclusive) by step."
   ]
  },
  {
   "cell_type": "markdown",
   "metadata": {},
   "source": [
    ">리스트(list)와 함께 사용하기"
   ]
  },
  {
   "cell_type": "code",
   "execution_count": null,
   "metadata": {},
   "outputs": [],
   "source": [
    "list(\"Python\") \n",
    "list(range(10))\n",
    "\n",
    "range(1, 11) \n",
    "range(1, 10+1)\n",
    "\n",
    "# 100 보다 작은 3의 배수 리스트를 생성하기\n",
    "#[3, 6, 9, 12 ....,99]\n",
    "\n",
    "multi_list = list(range(3,100,3))\n",
    "print(multi_list)\n"
   ]
  },
  {
   "cell_type": "code",
   "execution_count": 9,
   "metadata": {},
   "outputs": [
    {
     "name": "stdout",
     "output_type": "stream",
     "text": [
      "10 9 8 7 6 5 4 3 2 1 fire!!\n"
     ]
    }
   ],
   "source": [
    "# 카운트 다운\n",
    "import time\n",
    "for counter in range(10,0,-1):\n",
    "    print(counter, end= \" \")\n",
    "    time.sleep(1)\n",
    "print()\n",
    "print(\"fire!!\")"
   ]
  },
  {
   "cell_type": "code",
   "execution_count": 10,
   "metadata": {},
   "outputs": [
    {
     "name": "stdout",
     "output_type": "stream",
     "text": [
      "1 교시 국어\n",
      "2 교시 영어\n",
      "3 교시 수학\n",
      "4 교시 컴퓨터\n",
      "5 교시 물리\n"
     ]
    }
   ],
   "source": [
    "subjects = [\"국어\", \"영어\", \"수학\", \"컴퓨터\", \"물리\"]\n",
    "for i in range(len(subjects)) :\n",
    "    print(i+1, \"교시\" , subjects[i])"
   ]
  },
  {
   "cell_type": "markdown",
   "metadata": {},
   "source": [
    "> while 반복문"
   ]
  },
  {
   "cell_type": "code",
   "execution_count": 15,
   "metadata": {},
   "outputs": [
    {
     "name": "stdout",
     "output_type": "stream",
     "text": [
      "0 1 2 3 4 5 6 7 8 9 10 11 12 13 14 for 반복문 종료\n",
      "0 1 2 3 4 5 6 7 8 9 10 11 12 13 14 while 반복문 종료\n"
     ]
    }
   ],
   "source": [
    "# 1. for looping : 특정 횟수 만큼 반복하는 경우(반복 횟수가 정해져 있을때)\n",
    "# 2. while looping : 특정 조건에 대하여 반복하는 경우(조건식이 만족할 때까지 반복)\n",
    "# while bool표현식:\n",
    "# \n",
    "# 횟수 반복\n",
    "for i in range(15):\n",
    "    print(i, end= \" \")\n",
    "    time.sleep(0.4)\n",
    "print(\"for 반복문 종료\")\n",
    "\n",
    "# 조건 반복\n",
    "n = 0 \n",
    "while n < 15: \n",
    "    print(n, end=\" \")\n",
    "    n += 1\n",
    "    time.sleep(0.4)\n",
    "print(\"while 반복문 종료\")\n"
   ]
  },
  {
   "cell_type": "code",
   "execution_count": 27,
   "metadata": {},
   "outputs": [
    {
     "name": "stdout",
     "output_type": "stream",
     "text": [
      "Python\n",
      "['P', 'y', 't', 'h', 'o', 'n']\n",
      "P#$%&'y()*+,t-./:h;<=o>?@[\\]n\n"
     ]
    }
   ],
   "source": [
    "# 특수 기호 사이에 숨겨진 문자를 찾으시오\n",
    "\n",
    "word = \"\"\"!\"P#$%&'y()*+,t-./:h;<=o>?@[\\]n^_`{|}~\"\"\"\n",
    "ans = []    \n",
    "import string\n",
    "for i in range(len(word)):\n",
    "    if word[i] not in string.punctuation:               # 없으면 지워 보다 있으면 추가해 가 편하다.\n",
    "        ans.append(word[i])\n",
    "\n",
    "print(''.join(ans))            #print(\"word :\", word)\n",
    "print(ans)\n",
    "\n",
    "print(word.strip(string.punctuation))\n"
   ]
  },
  {
   "cell_type": "markdown",
   "metadata": {},
   "source": [
    "> while 반복문 : 시간을 기반으로 반복하기"
   ]
  },
  {
   "cell_type": "code",
   "execution_count": 84,
   "metadata": {},
   "outputs": [
    {
     "name": "stdout",
     "output_type": "stream",
     "text": [
      "UTC : 1641545859.1500185\n",
      "1.0003421306610107초 동안 9816376회 반복했습니다.\n"
     ]
    }
   ],
   "source": [
    "# 세계 표준시(UTC) : 1970.01.01.00:00:00 기준 현재까지의 누적 초\n",
    "\n",
    "import time\n",
    "print(\"UTC :\", time.time())\n",
    "\n",
    "count = 0 \n",
    "start_time = time.time()                #로직 시작시 시간\n",
    "target_time = start_time + 1\n",
    "\n",
    "while time.time() < target_time :\n",
    "    count += 1\n",
    "\n",
    "end_time = time.time()                  #로직 끝나고 시간\n",
    "print(\"{}초 동안 {}회 반복했습니다.\".format(end_time-start_time, count))"
   ]
  }
 ],
 "metadata": {
  "interpreter": {
   "hash": "054c0b5073ae8ed56926c5c67113945079b283bacf1a269ae7086b3d9eebd60c"
  },
  "kernelspec": {
   "display_name": "Python 3.10.1 64-bit",
   "language": "python",
   "name": "python3"
  },
  "language_info": {
   "codemirror_mode": {
    "name": "ipython",
    "version": 3
   },
   "file_extension": ".py",
   "mimetype": "text/x-python",
   "name": "python",
   "nbconvert_exporter": "python",
   "pygments_lexer": "ipython3",
   "version": "3.10.1"
  },
  "orig_nbformat": 4
 },
 "nbformat": 4,
 "nbformat_minor": 2
}

{
 "cells": [
  {
   "cell_type": "code",
   "execution_count": null,
   "metadata": {},
   "outputs": [],
   "source": [
    "# 특수 기호 사이에 숨겨진 문자를 찾으시오\n",
    "\n",
    "# word = \"\"\"!\"P#$%&'y()*+,t-./:h;<=o>?@[\\]n^_`{|}~\"\"\""
   ]
  },
  {
   "cell_type": "code",
   "execution_count": 3,
   "metadata": {},
   "outputs": [
    {
     "name": "stdout",
     "output_type": "stream",
     "text": [
      "Python"
     ]
    }
   ],
   "source": [
    "word = \"\"\"!\"P#$%&'y()*+,t-./:h;<=o>?@[\\]n^_`{|}~\"\"\"\n",
    "\n",
    "import string\n",
    "\n",
    "for i in range(len(word)) : \n",
    "    if word[i] not in string.punctuation:\n",
    "        print(word[i], end='')\n"
   ]
  }
 ],
 "metadata": {
  "interpreter": {
   "hash": "dc8f76e70a020781c3d9570dcc216c8634a08ba84b5db65cc3b0707bc1885291"
  },
  "kernelspec": {
   "display_name": "Python 3.10.1 64-bit",
   "language": "python",
   "name": "python3"
  },
  "language_info": {
   "codemirror_mode": {
    "name": "ipython",
    "version": 3
   },
   "file_extension": ".py",
   "mimetype": "text/x-python",
   "name": "python",
   "nbconvert_exporter": "python",
   "pygments_lexer": "ipython3",
   "version": "3.10.1"
  },
  "orig_nbformat": 4
 },
 "nbformat": 4,
 "nbformat_minor": 2
}
